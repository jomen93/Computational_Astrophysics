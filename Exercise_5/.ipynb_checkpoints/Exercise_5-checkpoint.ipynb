{
 "cells": [
  {
   "cell_type": "code",
   "execution_count": 14,
   "metadata": {},
   "outputs": [],
   "source": [
    "from astropy.io import ascii\n",
    "import numpy as np\n",
    "import matplotlib.pyplot as plt \n",
    "from matplotlib.gridspec import GridSpec\n"
   ]
  },
  {
   "cell_type": "markdown",
   "metadata": {},
   "source": [
    "# Curve Fitting:\n",
    "\n",
    "## $M_{BH} - \\sigma_{*}$ Relation\n",
    "\n",
    "In 2006, Greene and Ho [1] studied the characteristics of 88 galaxies to show that there is an apparent relationship between the stellar velocity dispersion$\\sigma_{*}$ in a galaxy bulge and the mass $M_{HB}$ of the supermassive black hole at its center, as show in the next figure\n",
    "\n",
    "<img src=\"figure1.png\">"
   ]
  },
  {
   "cell_type": "markdown",
   "metadata": {},
   "source": [
    "This know as the $M_{BH}-\\sigma_{*}$ relation and is not yet completely understood.\n",
    "\n",
    "* Make a plot of point showing $log_{10} M_{BH}$ as a function of $log_{10}\\sigma_{*}$\n",
    "\n"
   ]
  },
  {
   "cell_type": "code",
   "execution_count": 86,
   "metadata": {},
   "outputs": [
    {
     "data": {
      "text/plain": [
       "Text(0,0.5,'N')"
      ]
     },
     "execution_count": 86,
     "metadata": {},
     "output_type": "execute_result"
    },
    {
     "data": {
      "image/png": "[encoded data removed]",
      "text/plain": [
       "<Figure size 432x288 with 3 Axes>"
      ]
     },
     "metadata": {
      "needs_background": "light"
     },
     "output_type": "display_data"
    }
   ],
   "source": [
    "data = ascii.read(\"table1.dat\",readme=\"ReadMe\")  \n",
    "logσ = np.array(np.log10(data[\"sigma*\"]))\n",
    "logM = np.array(data[\"logM\"])\n",
    "\n",
    "x = logσ; y = logM\n",
    "\n",
    "fig = plt.figure()\n",
    "\n",
    "gs = GridSpec(4,4)\n",
    "\n",
    "ax_joint = fig.add_subplot(gs[1:4,0:3])\n",
    "ax_marg_x = fig.add_subplot(gs[0,0:3])\n",
    "ax_marg_y = fig.add_subplot(gs[1:4,3])\n",
    "\n",
    "ax_joint.scatter(x,y, c = \"blue\",alpha = 0.5,s = 25)\n",
    "ax_marg_x.hist(x,50,facecolor = \"blue\",alpha = 0.75)\n",
    "ax_marg_y.hist(y,50,facecolor = \"blue\",alpha = 0.75,orientation=\"horizontal\")\n",
    "\n",
    "plt.setp(ax_marg_x.get_xticklabels(), visible=False)\n",
    "plt.setp(ax_marg_y.get_yticklabels(), visible=False)\n",
    "\n",
    "ax_joint.set_xlabel('$\\log(\\sigma_{*}/\\ km\\ s^{-1})$',fontsize= \"12\")\n",
    "ax_joint.set_ylabel('$\\log(M_{BH}/M_{\\odot})$',fontsize= \"12\")\n",
    "\n",
    "ax_marg_y.set_xlabel('N')\n",
    "ax_marg_x.set_ylabel('N')\n"
   ]
  },
  {
   "cell_type": "code",
   "execution_count": 92,
   "metadata": {},
   "outputs": [
    {
     "data": {
      "text/html": [
       "<i>Table masked=True length=88</i>\n",
       "<table id=\"table4757425624\" class=\"table-striped table-bordered table-condensed\">\n",
       "<thead><tr><th>Name</th><th>z</th><th>sigma*</th><th>e_sigma*</th><th>n_sigma*</th><th>FWHM</th><th>e_FWHM</th><th>logL</th><th>e_logL</th><th>logM</th><th>E_logM</th><th>e_logM</th></tr></thead>\n",
       "<thead><tr><th></th><th></th><th>km / s</th><th>km / s</th><th></th><th>km / s</th><th>km / s</th><th>[10-7W]</th><th>[10-7W]</th><th>[solMass]</th><th>[solMass]</th><th>[solMass]</th></tr></thead>\n",
       "<thead><tr><th>str24</th><th>float64</th><th>float64</th><th>float64</th><th>str1</th><th>int64</th><th>int64</th><th>float64</th><th>float64</th><th>float64</th><th>float64</th><th>float64</th></tr></thead>\n",
       "<tr><td>SDSS J000805.62+145023.4</td><td>0.0454</td><td>140.0</td><td>27.0</td><td>--</td><td>7610</td><td>380</td><td>41.13</td><td>0.04</td><td>7.7</td><td>--</td><td>0.1</td></tr>\n",
       "<tr><td>SDSS J004236.86-104921.8</td><td>0.0419</td><td>78.4</td><td>10.0</td><td>--</td><td>1960</td><td>97</td><td>41.58</td><td>0.14</td><td>6.7</td><td>--</td><td>0.1</td></tr>\n",
       "<tr><td>SDSS J011703.58+000027.3</td><td>0.0456</td><td>98.8</td><td>16.0</td><td>--</td><td>2270</td><td>110</td><td>41.45</td><td>0.08</td><td>6.8</td><td>--</td><td>0.1</td></tr>\n",
       "<tr><td>SDSS J020459.25-080816.0</td><td>0.0772</td><td>121.0</td><td>9.4</td><td>a</td><td>3720</td><td>180</td><td>41.13</td><td>0.05</td><td>7.0</td><td>--</td><td>0.1</td></tr>\n",
       "<tr><td>SDSS J020615.99-001729.1</td><td>0.0426</td><td>216.0</td><td>30.0</td><td>--</td><td>3860</td><td>190</td><td>41.91</td><td>0.07</td><td>7.5</td><td>--</td><td>0.1</td></tr>\n",
       "<tr><td>SDSS J021011.49-090335.5</td><td>0.0414</td><td>122.0</td><td>12.0</td><td>a</td><td>2450</td><td>120</td><td>41.24</td><td>0.07</td><td>6.7</td><td>--</td><td>0.1</td></tr>\n",
       "<tr><td>SDSS J021257.59+140610.1</td><td>0.0618</td><td>174.0</td><td>12.0</td><td>a</td><td>3080</td><td>150</td><td>41.58</td><td>0.06</td><td>7.1</td><td>--</td><td>0.1</td></tr>\n",
       "<tr><td>SDSS J033013.26-053236.0</td><td>0.0131</td><td>99.2</td><td>11.0</td><td>--</td><td>5160</td><td>250</td><td>40.45</td><td>0.06</td><td>7.0</td><td>--</td><td>0.1</td></tr>\n",
       "<tr><td>SDSS J075057.25+353037.5</td><td>0.176</td><td>154.0</td><td>14.0</td><td>a</td><td>2970</td><td>200</td><td>41.63</td><td>0.03</td><td>7.2</td><td>--</td><td>0.1</td></tr>\n",
       "<tr><td>...</td><td>...</td><td>...</td><td>...</td><td>...</td><td>...</td><td>...</td><td>...</td><td>...</td><td>...</td><td>...</td><td>...</td></tr>\n",
       "<tr><td>Mrk 817</td><td>0.0315</td><td>127.0</td><td>12.0</td><td>--</td><td>--</td><td>--</td><td>--</td><td>--</td><td>7.62</td><td>0.08</td><td>0.1</td></tr>\n",
       "<tr><td>NGC 3227</td><td>0.00386</td><td>135.0</td><td>3.8</td><td>--</td><td>--</td><td>--</td><td>--</td><td>--</td><td>7.47</td><td>0.24</td><td>1.06</td></tr>\n",
       "<tr><td>NGC 3516</td><td>0.00884</td><td>181.0</td><td>4.9</td><td>b</td><td>--</td><td>--</td><td>--</td><td>--</td><td>7.04</td><td>0.31</td><td>0.39</td></tr>\n",
       "<tr><td>NGC 3783</td><td>0.00973</td><td>95.0</td><td>10.0</td><td>--</td><td>--</td><td>--</td><td>--</td><td>--</td><td>7.16</td><td>0.17</td><td>0.23</td></tr>\n",
       "<tr><td>NGC 4051</td><td>0.00234</td><td>88.9</td><td>2.9</td><td>--</td><td>--</td><td>--</td><td>--</td><td>--</td><td>5.99</td><td>0.17</td><td>0.2</td></tr>\n",
       "<tr><td>NGC 4151</td><td>0.00332</td><td>96.8</td><td>2.9</td><td>--</td><td>--</td><td>--</td><td>--</td><td>--</td><td>6.91</td><td>0.17</td><td>0.29</td></tr>\n",
       "<tr><td>NGC 5548</td><td>0.0172</td><td>198.0</td><td>11.0</td><td>--</td><td>--</td><td>--</td><td>--</td><td>--</td><td>7.81</td><td>0.02</td><td>0.02</td></tr>\n",
       "<tr><td>NGC 7469</td><td>0.0163</td><td>133.0</td><td>4.8</td><td>--</td><td>--</td><td>--</td><td>--</td><td>--</td><td>6.49</td><td>0.16</td><td>0.27</td></tr>\n",
       "<tr><td>POX 52</td><td>0.0218</td><td>36.0</td><td>5.0</td><td>--</td><td>--</td><td>--</td><td>--</td><td>--</td><td>5.2</td><td>--</td><td>0.3</td></tr>\n",
       "<tr><td>NGC 4395</td><td>0.000947</td><td>30.0</td><td>5.0</td><td>--</td><td>--</td><td>--</td><td>--</td><td>--</td><td>4.9</td><td>--</td><td>0.4</td></tr>\n",
       "</table>"
      ],
      "text/plain": [
       "<Table masked=True length=88>\n",
       "          Name              z      sigma* ...    logM     E_logM    e_logM \n",
       "                                   km / s ... [solMass] [solMass] [solMass]\n",
       "         str24           float64  float64 ...  float64   float64   float64 \n",
       "------------------------ -------- ------- ... --------- --------- ---------\n",
       "SDSS J000805.62+145023.4   0.0454   140.0 ...       7.7        --       0.1\n",
       "SDSS J004236.86-104921.8   0.0419    78.4 ...       6.7        --       0.1\n",
       "SDSS J011703.58+000027.3   0.0456    98.8 ...       6.8        --       0.1\n",
       "SDSS J020459.25-080816.0   0.0772   121.0 ...       7.0        --       0.1\n",
       "SDSS J020615.99-001729.1   0.0426   216.0 ...       7.5        --       0.1\n",
       "SDSS J021011.49-090335.5   0.0414   122.0 ...       6.7        --       0.1\n",
       "SDSS J021257.59+140610.1   0.0618   174.0 ...       7.1        --       0.1\n",
       "SDSS J033013.26-053236.0   0.0131    99.2 ...       7.0        --       0.1\n",
       "SDSS J075057.25+353037.5    0.176   154.0 ...       7.2        --       0.1\n",
       "                     ...      ...     ... ...       ...       ...       ...\n",
       "                 Mrk 817   0.0315   127.0 ...      7.62      0.08       0.1\n",
       "                NGC 3227  0.00386   135.0 ...      7.47      0.24      1.06\n",
       "                NGC 3516  0.00884   181.0 ...      7.04      0.31      0.39\n",
       "                NGC 3783  0.00973    95.0 ...      7.16      0.17      0.23\n",
       "                NGC 4051  0.00234    88.9 ...      5.99      0.17       0.2\n",
       "                NGC 4151  0.00332    96.8 ...      6.91      0.17      0.29\n",
       "                NGC 5548   0.0172   198.0 ...      7.81      0.02      0.02\n",
       "                NGC 7469   0.0163   133.0 ...      6.49      0.16      0.27\n",
       "                  POX 52   0.0218    36.0 ...       5.2        --       0.3\n",
       "                NGC 4395 0.000947    30.0 ...       4.9        --       0.4"
      ]
     },
     "execution_count": 92,
     "metadata": {},
     "output_type": "execute_result"
    }
   ],
   "source": [
    "data"
   ]
  },
  {
   "cell_type": "markdown",
   "metadata": {},
   "source": [
    "* Compute a linear regression to the data (Ignoring errors). Make a plot of data and fit. Compare your fit results to that of Greene & Ho (2006). (Maybe you will need some rescaling for a direct comparison.)"
   ]
  },
  {
   "cell_type": "markdown",
   "metadata": {},
   "source": [
    "The simplest curve to fit some data is a straight line (linnear regression)\n",
    "\n",
    "$$Y(x,\\{a_{1},a_{2}\\}) = a_{1}+a_{2}x$$\n",
    "\n",
    "the coefficients of the linear regression are \n",
    "\n",
    "$$a_{1} = \\frac{\\sum y \\sum x^{2}-\\sum x \\sum xy}{S \\sum x^{2}-\\left(\\sum x\\right)^{2}},\\qquad a_{2} = \\frac{S\\sum xy- \\sum y \\sum x}{S\\sum x^{2}-\\left(\\sum x\\right)^{2}}$$\n",
    "\n",
    "The associated error bar $\\sigma^{2}_{a_{j}}$ for the curve fit parameter $a_{j}$. We have\n",
    "\n",
    "$$\\sigma_{a_{1}} = \\sqrt{\\frac{\\sum x^{2}}{S\\sum x^{2}-\\left(\\sum x\\right)^{2}}},\\qquad \\sigma_{a_{2}} = \\sqrt{\\frac{S}{S\\sum x^{2}-\\left(\\sum x\\right)^{2}}}$$\n",
    "\n",
    "with the definitions \n",
    "\n",
    "$$S=\\sum_{i=1}^{N}\\frac{1}{\\sigma_{i}^{2}},\\quad \\sum x=\\sum_{i=1}^{N}\\frac{x_{i}}{\\sigma_{i}^{2}},\\quad  \\sum y=\\sum_{i=1}^{N}\\frac{y_{i}}{\\sigma_{i=1}\\frac{y_{i}}{\\sigma_{i}^{2}}}$$\n",
    "\n",
    "$$\\sum x^{2} = \\sum_{i=1}^{N}\\frac{x_{i}^{2}}{\\sigma_{i}^{2}},\\quad \\sum xy = \\sum_{i=1}^{N}\\frac{x_{i}y_{i}}{\\sigma_{i}^{2}}$$"
   ]
  },
  {
   "cell_type": "code",
   "execution_count": null,
   "metadata": {},
   "outputs": [],
   "source": []
  },
  {
   "cell_type": "code",
   "execution_count": 89,
   "metadata": {},
   "outputs": [
    {
     "name": "stdout",
     "output_type": "stream",
     "text": [
      "J/ApJ/641/L21  Black hole mass and velocity dispersion relation  (Greene+, 2006)\r\n",
      "================================================================================\r\n",
      "The M_BH_-{sigma}_*_ relation in local active galaxies.\r\n",
      "    Greene J.E., Ho L.C.\r\n",
      "   <Astrophys. J., 641, L21-L24 (2006)>\r\n",
      "   =2006ApJ...641L..21G\r\n",
      "================================================================================\r\n",
      "ADC_Keywords: Active gal. nuclei ; Velocity dispersion ; Redshifts\r\n",
      "Keywords: galaxies: active - galaxies: kinematics and dynamics -\r\n",
      "          galaxies: nuclei - galaxies: Seyfert\r\n",
      "\r\n",
      "Abstract:\r\n",
      "    We examine whether active galaxies obey the same relation between\r\n",
      "    black hole mass and stellar velocity dispersion as inactive systems,\r\n",
      "    using the largest published sample of velocity dispersions for active\r\n",
      "    nuclei to date. The combination of 56 original measurements with\r\n",
      "    objects from the literature not only increases the sample from the 15\r\n",
      "    considered previously to 88 objects but allows us to cover an\r\n",
      "    unprecedented range in both stellar velocity dispersion (30-268km/s)\r\n",
      "    and black hole mass (10^5^-10^8.6^M_{sun}_).\r\n",
      "\r\n",
      "File Summary:\r\n",
      "--------------------------------------------------------------------------------\r\n",
      " FileName   Lrecl  Records   Explanations\r\n",
      "--------------------------------------------------------------------------------\r\n",
      "ReadMe         80        .   This file\r\n",
      "table1.dat     82       88   Sample properties\r\n",
      "--------------------------------------------------------------------------------\r\n",
      "\r\n",
      "See also:\r\n",
      "  http://www.sdss.org : SDSS Home Page\r\n",
      "  J/ApJ/632/799       : NGC4395 light curves (Peterson+, 2005)\r\n",
      "  J/ApJ/613/682       : AGN central masses and broad-line region sizes\r\n",
      "                                                       (Peterson+, 2004)\r\n",
      "\r\n",
      "Byte-by-byte Description of file: table1.dat\r\n",
      "--------------------------------------------------------------------------------\r\n",
      "   Bytes Format Units       Label   Explanations\r\n",
      "--------------------------------------------------------------------------------\r\n",
      "   1- 24  A24   ---         Name    Source identification\r\n",
      "  26- 33  F8.6  ---         z       Redshift\r\n",
      "  35- 39  F5.1  km/s        sigma*  Stellar velocity dispersion {sigma}_*_ (1)\r\n",
      "  41- 44  F4.1  km/s      e_sigma*  Formal uncertainty in sigma*\r\n",
      "      46  A1    ---       n_sigma*  Origin of {sigma}_*_ measurement (2)\r\n",
      "  48- 51  I4    km/s        FWHM    ? H{alpha} Full-Width at Half-Maximum\r\n",
      "  53- 56  I4    km/s      e_FWHM    ? Formal uncertainty in FWHM\r\n",
      "  58- 62  F5.2  [10-7W]     logL    ? Log of H{alpha} luminosity in erg/s\r\n",
      "  64- 67  F4.2  [10-7W]   e_logL    ? Formal uncertainty in logL\r\n",
      "  69- 72  F4.2  [solMass]   logM    Log of the Black Hole mass (3)\r\n",
      "  74- 77  F4.2  [solMass] E_logM    ? Formal upper limit uncertainty in logM\r\n",
      "  79- 82  F4.2  [solMass] e_logM    Formal uncertainty (or lower limit) in logM\r\n",
      "--------------------------------------------------------------------------------\r\n",
      "Note (1): From the CaII triplet ({lambda}{lambda}8498,8542,8662{AA})\r\n",
      "          unless otherwise noted.\r\n",
      "Note (2): Origin of {sigma}_*_ measurement, defined as follows:\r\n",
      "      a = Measured using the Fe region (5250-5820{AA});\r\n",
      "      b = Measured (at least in part) using the MgIb triplet\r\n",
      "          ({lambda}{lambda}5167,5173,5184{AA}) region.\r\n",
      "Note (3): Actual uncertainties in M_BH_ are dominated by systematics in\r\n",
      "     broad-line region geometry. Sources from Barth et al.\r\n",
      "     (2005ApJ...619L.151B) are included below the SDSS sample from this\r\n",
      "     paper; for consistency the BH masses were redetermined from the DR3\r\n",
      "     spectra using the H{alpha} formalism. However, in general our\r\n",
      "     FWHM_H{alpha}_ and M_BH_ values are consistent with those in Barth et\r\n",
      "     al., and none of our conclusions are altered if we use the masses from\r\n",
      "     that study. We further include the reverberation-mapped sources, with\r\n",
      "     {sigma}_*_ measurements representing the weighted mean of values from\r\n",
      "     Onken et al. (2004ApJ...615..645O) and Nelson et al.\r\n",
      "     (2004ApJ...615..652N), and BH masses derived from the H{beta} lags and\r\n",
      "     FWHM presented in Peterson et al. (2004, Cat. <J/ApJ/613/682>). For\r\n",
      "     completeness, we also include POX 52 (Barth et al.\r\n",
      "     2004ApJ...607...90B) and NGC 4395 ({sigma}_*_ from Filippenko & Ho\r\n",
      "     2003ApJ...588L..13F, BH mass from Peterson et al. 2005, Cat.\r\n",
      "     <J/ApJ/632/799>).\r\n",
      "\r\n",
      "    M_BH_=(2.0^+0.4^_-0.3_)*10^6^M_{sun}_(L_H{alpha}_/10^42^erg/s)^0.55+/-0.02^*\r\n",
      "    (FWHM_H{alpha}_/10^3^km/s)^2.06+/-0.06^ (Greene & Ho 2005ApJ...630..122G).\r\n",
      "--------------------------------------------------------------------------------\r\n",
      "\r\n",
      "History:\r\n",
      "    From electronic version of the journal\r\n",
      "================================================================================\r\n",
      "(End)                   Greg Schwarz [AAS], Marianne Brouty [CDS]    26-Jul-2007\r\n"
     ]
    }
   ],
   "source": [
    "%cat ReadMe\n"
   ]
  },
  {
   "cell_type": "code",
   "execution_count": 91,
   "metadata": {},
   "outputs": [
    {
     "data": {
      "text/html": [
       "<i>Table masked=True length=88</i>\n",
       "<table id=\"table4757425624\" class=\"table-striped table-bordered table-condensed\">\n",
       "<thead><tr><th>Name</th><th>z</th><th>sigma*</th><th>e_sigma*</th><th>n_sigma*</th><th>FWHM</th><th>e_FWHM</th><th>logL</th><th>e_logL</th><th>logM</th><th>E_logM</th><th>e_logM</th></tr></thead>\n",
       "<thead><tr><th></th><th></th><th>km / s</th><th>km / s</th><th></th><th>km / s</th><th>km / s</th><th>[10-7W]</th><th>[10-7W]</th><th>[solMass]</th><th>[solMass]</th><th>[solMass]</th></tr></thead>\n",
       "<thead><tr><th>str24</th><th>float64</th><th>float64</th><th>float64</th><th>str1</th><th>int64</th><th>int64</th><th>float64</th><th>float64</th><th>float64</th><th>float64</th><th>float64</th></tr></thead>\n",
       "<tr><td>SDSS J000805.62+145023.4</td><td>0.0454</td><td>140.0</td><td>27.0</td><td>--</td><td>7610</td><td>380</td><td>41.13</td><td>0.04</td><td>7.7</td><td>--</td><td>0.1</td></tr>\n",
       "<tr><td>SDSS J004236.86-104921.8</td><td>0.0419</td><td>78.4</td><td>10.0</td><td>--</td><td>1960</td><td>97</td><td>41.58</td><td>0.14</td><td>6.7</td><td>--</td><td>0.1</td></tr>\n",
       "<tr><td>SDSS J011703.58+000027.3</td><td>0.0456</td><td>98.8</td><td>16.0</td><td>--</td><td>2270</td><td>110</td><td>41.45</td><td>0.08</td><td>6.8</td><td>--</td><td>0.1</td></tr>\n",
       "<tr><td>SDSS J020459.25-080816.0</td><td>0.0772</td><td>121.0</td><td>9.4</td><td>a</td><td>3720</td><td>180</td><td>41.13</td><td>0.05</td><td>7.0</td><td>--</td><td>0.1</td></tr>\n",
       "<tr><td>SDSS J020615.99-001729.1</td><td>0.0426</td><td>216.0</td><td>30.0</td><td>--</td><td>3860</td><td>190</td><td>41.91</td><td>0.07</td><td>7.5</td><td>--</td><td>0.1</td></tr>\n",
       "<tr><td>SDSS J021011.49-090335.5</td><td>0.0414</td><td>122.0</td><td>12.0</td><td>a</td><td>2450</td><td>120</td><td>41.24</td><td>0.07</td><td>6.7</td><td>--</td><td>0.1</td></tr>\n",
       "<tr><td>SDSS J021257.59+140610.1</td><td>0.0618</td><td>174.0</td><td>12.0</td><td>a</td><td>3080</td><td>150</td><td>41.58</td><td>0.06</td><td>7.1</td><td>--</td><td>0.1</td></tr>\n",
       "<tr><td>SDSS J033013.26-053236.0</td><td>0.0131</td><td>99.2</td><td>11.0</td><td>--</td><td>5160</td><td>250</td><td>40.45</td><td>0.06</td><td>7.0</td><td>--</td><td>0.1</td></tr>\n",
       "<tr><td>SDSS J075057.25+353037.5</td><td>0.176</td><td>154.0</td><td>14.0</td><td>a</td><td>2970</td><td>200</td><td>41.63</td><td>0.03</td><td>7.2</td><td>--</td><td>0.1</td></tr>\n",
       "<tr><td>...</td><td>...</td><td>...</td><td>...</td><td>...</td><td>...</td><td>...</td><td>...</td><td>...</td><td>...</td><td>...</td><td>...</td></tr>\n",
       "<tr><td>Mrk 817</td><td>0.0315</td><td>127.0</td><td>12.0</td><td>--</td><td>--</td><td>--</td><td>--</td><td>--</td><td>7.62</td><td>0.08</td><td>0.1</td></tr>\n",
       "<tr><td>NGC 3227</td><td>0.00386</td><td>135.0</td><td>3.8</td><td>--</td><td>--</td><td>--</td><td>--</td><td>--</td><td>7.47</td><td>0.24</td><td>1.06</td></tr>\n",
       "<tr><td>NGC 3516</td><td>0.00884</td><td>181.0</td><td>4.9</td><td>b</td><td>--</td><td>--</td><td>--</td><td>--</td><td>7.04</td><td>0.31</td><td>0.39</td></tr>\n",
       "<tr><td>NGC 3783</td><td>0.00973</td><td>95.0</td><td>10.0</td><td>--</td><td>--</td><td>--</td><td>--</td><td>--</td><td>7.16</td><td>0.17</td><td>0.23</td></tr>\n",
       "<tr><td>NGC 4051</td><td>0.00234</td><td>88.9</td><td>2.9</td><td>--</td><td>--</td><td>--</td><td>--</td><td>--</td><td>5.99</td><td>0.17</td><td>0.2</td></tr>\n",
       "<tr><td>NGC 4151</td><td>0.00332</td><td>96.8</td><td>2.9</td><td>--</td><td>--</td><td>--</td><td>--</td><td>--</td><td>6.91</td><td>0.17</td><td>0.29</td></tr>\n",
       "<tr><td>NGC 5548</td><td>0.0172</td><td>198.0</td><td>11.0</td><td>--</td><td>--</td><td>--</td><td>--</td><td>--</td><td>7.81</td><td>0.02</td><td>0.02</td></tr>\n",
       "<tr><td>NGC 7469</td><td>0.0163</td><td>133.0</td><td>4.8</td><td>--</td><td>--</td><td>--</td><td>--</td><td>--</td><td>6.49</td><td>0.16</td><td>0.27</td></tr>\n",
       "<tr><td>POX 52</td><td>0.0218</td><td>36.0</td><td>5.0</td><td>--</td><td>--</td><td>--</td><td>--</td><td>--</td><td>5.2</td><td>--</td><td>0.3</td></tr>\n",
       "<tr><td>NGC 4395</td><td>0.000947</td><td>30.0</td><td>5.0</td><td>--</td><td>--</td><td>--</td><td>--</td><td>--</td><td>4.9</td><td>--</td><td>0.4</td></tr>\n",
       "</table>"
      ],
      "text/plain": [
       "<Table masked=True length=88>\n",
       "          Name              z      sigma* ...    logM     E_logM    e_logM \n",
       "                                   km / s ... [solMass] [solMass] [solMass]\n",
       "         str24           float64  float64 ...  float64   float64   float64 \n",
       "------------------------ -------- ------- ... --------- --------- ---------\n",
       "SDSS J000805.62+145023.4   0.0454   140.0 ...       7.7        --       0.1\n",
       "SDSS J004236.86-104921.8   0.0419    78.4 ...       6.7        --       0.1\n",
       "SDSS J011703.58+000027.3   0.0456    98.8 ...       6.8        --       0.1\n",
       "SDSS J020459.25-080816.0   0.0772   121.0 ...       7.0        --       0.1\n",
       "SDSS J020615.99-001729.1   0.0426   216.0 ...       7.5        --       0.1\n",
       "SDSS J021011.49-090335.5   0.0414   122.0 ...       6.7        --       0.1\n",
       "SDSS J021257.59+140610.1   0.0618   174.0 ...       7.1        --       0.1\n",
       "SDSS J033013.26-053236.0   0.0131    99.2 ...       7.0        --       0.1\n",
       "SDSS J075057.25+353037.5    0.176   154.0 ...       7.2        --       0.1\n",
       "                     ...      ...     ... ...       ...       ...       ...\n",
       "                 Mrk 817   0.0315   127.0 ...      7.62      0.08       0.1\n",
       "                NGC 3227  0.00386   135.0 ...      7.47      0.24      1.06\n",
       "                NGC 3516  0.00884   181.0 ...      7.04      0.31      0.39\n",
       "                NGC 3783  0.00973    95.0 ...      7.16      0.17      0.23\n",
       "                NGC 4051  0.00234    88.9 ...      5.99      0.17       0.2\n",
       "                NGC 4151  0.00332    96.8 ...      6.91      0.17      0.29\n",
       "                NGC 5548   0.0172   198.0 ...      7.81      0.02      0.02\n",
       "                NGC 7469   0.0163   133.0 ...      6.49      0.16      0.27\n",
       "                  POX 52   0.0218    36.0 ...       5.2        --       0.3\n",
       "                NGC 4395 0.000947    30.0 ...       4.9        --       0.4"
      ]
     },
     "execution_count": 91,
     "metadata": {},
     "output_type": "execute_result"
    }
   ],
   "source": [
    "data"
   ]
  },
  {
   "cell_type": "code",
   "execution_count": null,
   "metadata": {},
   "outputs": [],
   "source": []
  },
  {
   "cell_type": "code",
   "execution_count": null,
   "metadata": {},
   "outputs": [],
   "source": []
  },
  {
   "cell_type": "markdown",
   "metadata": {},
   "source": [
    "* Include the errors in $log_{10}\\sigma_{*}$ and $log_{10}M_{BH}$ in your fit. There may be multiple errors given, use your judgement which ones to pick. How does this change your fit?"
   ]
  },
  {
   "cell_type": "code",
   "execution_count": null,
   "metadata": {},
   "outputs": [],
   "source": []
  }
 ],
 "metadata": {
  "kernelspec": {
   "display_name": "Python 3",
   "language": "python",
   "name": "python3"
  },
  "language_info": {
   "codemirror_mode": {
    "name": "ipython",
    "version": 3
   },
   "file_extension": ".py",
   "mimetype": "text/x-python",
   "name": "python",
   "nbconvert_exporter": "python",
   "pygments_lexer": "ipython3",
   "version": "3.6.4"
  }
 },
 "nbformat": 4,
 "nbformat_minor": 2
}
