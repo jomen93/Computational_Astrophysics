{
 "cells": [
  {
   "cell_type": "code",
   "execution_count": 106,
   "metadata": {},
   "outputs": [],
   "source": [
    "import numpy as np\n",
    "import matplotlib.pyplot as plt\n",
    "\n",
    "def Y(x):\n",
    "    return 2.0*(x**3 -x**2 +0.05*x)"
   ]
  },
  {
   "cell_type": "markdown",
   "metadata": {},
   "source": [
    "# A simple Boundary-Value Problem\n",
    "\n",
    "Consider the Boundary-Value Problem (BVP)\n",
    "\n",
    "$$\\frac{d^{2}y}{dx^{2}}=12x -4,\\quad y(0)=0,\\quad y(1) = 0.1$$\n",
    "\n",
    "Solve the BVP ODE with the shooting method.\n",
    "\n",
    "Fisrt, we need to rewrite the second-order ODE as two first-order ODEs:\n",
    "\n",
    "$$\\frac{dy}{dx}=u(x)$$\n",
    "\n",
    "$$\\frac{du}{dx} = 12x - 4$$\n",
    "\n",
    "This is really simple BVP and therefore it will require only very few shooting iterations for reasonable guesses. Hence use the initial values $u(0) = z_{o} = -1100000.0 $ and  $u(0) = z_{1} = -10000000.0$ as initial guesses so that you get to do at least two iterations of shooting.\n",
    "\n",
    "Solve the problema by implementing an RK2(or higher) integrator. Demonstrate convergence. Make a plot of your solution for $y(x)$ and compare it with the true solution is \n",
    "\n",
    "$$y(x) = 2x^{3}-2x^{2}+0.1x$$"
   ]
  },
  {
   "cell_type": "markdown",
   "metadata": {},
   "source": [
    "A shooting method transforms a two-point problema into an initial-value problem an attempts on a trial and error basis to reproduce the second boundary condition\n",
    "\n",
    "Let us consider the general second order two point problem with Dirichlet boundary conditions\n",
    "\n",
    "$$\\frac{d^{2}y}{dx^{2}}=f(x,y,y')$$\n",
    "$$y(x_{a}) = y_{a}\\quad y(x_{b}) = y_{b}$$\n",
    "\n",
    "whose solution $y(x)$ are supposed to be continuous. The derivative $y'(x_{a}) = y'(x_{a})$ at the left interval boundary is not know a priori, but it is *univocally defined*  by the boundary conditions. Suppossing that y'_{a} was know from the beginning, the two-point problem could be replaced by the equivalent initial-value problem \n",
    "\n",
    "\n",
    "$$\\frac{d^{2}y}{dx^{2}}=f(x,y,y')$$\n",
    "$$y(x_{a}) = y_{a}\\quad y'(x_{a}) = y'{a}$$\n",
    "\n",
    "having the same solution and also satisfying the unused boundary condition. Let asume that we start the propagation of the solution, instead of the true first derivarive $y'_{a}$with a pair of trial derivatves $y'^{(1)}_{a}<y'^{(2)}_{a}$ and thta we obtain, correspondingly, two different solutions of the problem, for which the values at the end point $x_{b}$ are $y^{(1)}_{b}$ andm respectly y'^{(2)}_{b}.\n",
    "\n",
    "If both $y^{(1)}_{a}$ y $y^{(2)}_{a}$ deviate by the same sign from the true end value $y_{b}$, by virtue of the continuity of the solution, it follows that tru derivative $y'_{a}$ is not contained between the initial trial values $y^{(1)}_{a}$ and "
   ]
  },
  {
   "cell_type": "code",
   "execution_count": null,
   "metadata": {},
   "outputs": [],
   "source": []
  },
  {
   "cell_type": "code",
   "execution_count": null,
   "metadata": {},
   "outputs": [],
   "source": []
  },
  {
   "cell_type": "code",
   "execution_count": null,
   "metadata": {},
   "outputs": [],
   "source": []
  },
  {
   "cell_type": "code",
   "execution_count": null,
   "metadata": {},
   "outputs": [],
   "source": []
  },
  {
   "cell_type": "code",
   "execution_count": null,
   "metadata": {},
   "outputs": [],
   "source": []
  },
  {
   "cell_type": "code",
   "execution_count": null,
   "metadata": {},
   "outputs": [],
   "source": []
  },
  {
   "cell_type": "code",
   "execution_count": null,
   "metadata": {},
   "outputs": [],
   "source": []
  },
  {
   "cell_type": "code",
   "execution_count": 22,
   "metadata": {},
   "outputs": [],
   "source": []
  },
  {
   "cell_type": "markdown",
   "metadata": {},
   "source": [
    "Solve the BVP ODE with the finite-difference method\n",
    "\n",
    "$$\\frac{d^{2}y}{dx^{2}}=12x -4,\\quad y(0)=0,\\quad y(1) = 0.1$$\n",
    "\n",
    "consider a central diference in the derivative we have\n",
    "\n",
    "$\\left(\\frac{d^{2}y}{dx^{2}}\\right)_{i} = \\frac{y_{i+1}(x_{i}-x_{i-1})-y_{i}(x_{i+1}-x_{i-1})+y_{i-1}(x_{i+1}-x_{i+1}))}{(x_{i+1})^{2}(x_{i}-x_{i-1})}$\n",
    "\n",
    "So\n",
    "\n",
    "$$\\frac{y_{i+1}}{(x_{i+1}-x_{i-1})(x_{i+1}+x_{i})}+\\frac{y_{i-1}}{(x_{i+1}-x_{i-1})(x_{i}-x_{i-1})}-\\frac{y_{i}}{(x_{i+1}-x_{i})(x_{i}-x_{i-1})} = \\frac{12x_{i}-4}{2}$$\n",
    "\n",
    "we define\n",
    "\n",
    "$$r_{1} = x_{i+1}-x_{i-1}$$\n",
    "$$r_{2} = x_{i+1}-x_{i-1}$$\n",
    "$$r_{3} = x_{i}-x_{i-1}$$\n",
    "\n",
    "Now\n",
    "\n",
    "$$y_{i} = r_{2}r_{3}\\left(\\frac{y_{i+1}}{r_{1}r_{2}}+\\frac{y_{i-1}}{r_{1}r_{3}}-(6x_{i}-2)\\right)$$\n",
    "\n",
    "with the boundary conditions \n",
    "\n",
    "$$y_{o} = 0 \\qquad y_{n} = 0.1$$\n"
   ]
  },
  {
   "cell_type": "code",
   "execution_count": 105,
   "metadata": {},
   "outputs": [
    {
     "data": {
      "text/plain": [
       "<matplotlib.legend.Legend at 0x11bf07470>"
      ]
     },
     "execution_count": 105,
     "metadata": {},
     "output_type": "execute_result"
    },
    {
     "data": {
      "image/png": "[encoded data removed]",
      "text/plain": [
       "<Figure size 432x288 with 1 Axes>"
      ]
     },
     "metadata": {
      "needs_background": "light"
     },
     "output_type": "display_data"
    }
   ],
   "source": [
    "n = 32\n",
    "b = 1.0 ; a = 0.0\n",
    "dx = (b-a)/n\n",
    "x = np.linspace(a,b,n)\n",
    "y = np.zeros(n)\n",
    "y[0] = 0.0 ; y[-1] = 0.1\n",
    "E = 1.0\n",
    "aux = 0\n",
    "dif =1e-1\n",
    "while(np.abs(dif) > 1e-10):\n",
    "    aux = E\n",
    "    for i in range(1,n-1):\n",
    "        r1 = x[i+1]-x[i-1]\n",
    "        r2 = x[i+1]-x[i]\n",
    "        r3 = x[i]-x[i-1]\n",
    "        y[i] = ((r2*r3)/(r1*r2))*y[i+1] + ((r2*r3)/(r1*r3))*y[i-1] - r2*r3*(6.0*x[i]-2.0)\n",
    "    E = np.abs(np.mean((y[1:-1]-Y(x)[1:-1])/Y(x)[1:-1]))\n",
    "    dif = E-aux\n",
    "\n",
    "plt.plot(x,y,\"k.\",label = \"Simulation\")\n",
    "plt.plot(x,Y(x),\"b-\",label = \"Analytical\")\n",
    "plt.grid(True)\n",
    "plt.legend()\n"
   ]
  },
  {
   "cell_type": "code",
   "execution_count": null,
   "metadata": {},
   "outputs": [],
   "source": []
  }
 ],
 "metadata": {
  "kernelspec": {
   "display_name": "Python 3",
   "language": "python",
   "name": "python3"
  },
  "language_info": {
   "codemirror_mode": {
    "name": "ipython",
    "version": 3
   },
   "file_extension": ".py",
   "mimetype": "text/x-python",
   "name": "python",
   "nbconvert_exporter": "python",
   "pygments_lexer": "ipython3",
   "version": "3.6.4"
  }
 },
 "nbformat": 4,
 "nbformat_minor": 2
}
