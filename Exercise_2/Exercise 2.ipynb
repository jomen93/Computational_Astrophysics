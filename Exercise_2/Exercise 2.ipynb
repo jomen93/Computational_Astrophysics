{
 "cells": [
  {
   "cell_type": "code",
   "execution_count": 1,
   "metadata": {},
   "outputs": [],
   "source": [
    "import numpy as np \n",
    "import matplotlib.pyplot as plt"
   ]
  },
  {
   "cell_type": "markdown",
   "metadata": {},
   "source": [
    "#### 1.\n",
    "\n",
    "Consider the Lagrangan interpolation of the function   $f(x) = \\frac{1}{25x^{2}+1}$ for $n=6$, $n=8$, $n=10$, $n =12$ done in Exercise 1. Now, discretize the domain with $m =100$ equalli spaced points in the interval $[-1,1]$. Compute the Error-Norm-2, defined as\n",
    "\n",
    "$$EN2 = \\frac{1}{m}\\sqrt{\\sum_{i=1}^{m}\\left(\\frac{p(x)-f(x)}{f(x)}\\right)^{2}}$$\n",
    "\n",
    "for the cases $n = \\{6,8,10,12\\}$\n",
    "\n",
    "**Solution**"
   ]
  },
  {
   "cell_type": "markdown",
   "metadata": {},
   "source": [
    "First copy the function write in the before Exercise "
   ]
  },
  {
   "cell_type": "code",
   "execution_count": 57,
   "metadata": {},
   "outputs": [],
   "source": [
    "def L(xi,yi,x):\n",
    "    n  = len(xi); nx = len(x)\n",
    "    dx = xi     ; dy = yi\n",
    "    La = [0.]*(nx)\n",
    "    def b(j,xi):\n",
    "        v = 1.0\n",
    "        for k in range(n):\n",
    "            if k != j:\n",
    "                v *= (xi-dx[k])/(dx[j]-dx[k])\n",
    "        return v\n",
    "    for i,xi in enumerate(x):\n",
    "        for j in range(n):\n",
    "            La[i] +=dy[j]*b(j,xi)\n",
    "    \n",
    "    return np.array(La)"
   ]
  },
  {
   "cell_type": "markdown",
   "metadata": {},
   "source": [
    "Consider the discretization and EN2"
   ]
  },
  {
   "cell_type": "code",
   "execution_count": 58,
   "metadata": {},
   "outputs": [],
   "source": [
    "m=100\n",
    "n=[6,8,10,12,14,16]\n",
    "x = lambda n: np.linspace(-1,1,n)\n",
    "f = lambda x: 1/(25*x**2 + 1)\n",
    "\n",
    "Error = []\n",
    "for i in n:\n",
    "    xi = x(i)\n",
    "    yi = f(xi)\n",
    "    Error.append(np.sqrt(sum(((L(xi,yi,x(m))-f(x(m)))/f(x(m)))**2))/m)\n"
   ]
  },
  {
   "cell_type": "code",
   "execution_count": 59,
   "metadata": {},
   "outputs": [
    {
     "data": {
      "text/plain": [
       "Text(0,0.5,'Error')"
      ]
     },
     "execution_count": 59,
     "metadata": {},
     "output_type": "execute_result"
    },
    {
     "data": {
      "image/png": "[encoded data removed]",
      "text/plain": [
       "<Figure size 432x288 with 1 Axes>"
      ]
     },
     "metadata": {
      "needs_background": "light"
     },
     "output_type": "display_data"
    }
   ],
   "source": [
    "plt.plot(n,Error,\"bo\")\n",
    "plt.grid(True)\n",
    "plt.title(\"Error-Norm-2\",fontsize=\"15\")\n",
    "plt.xlabel(\"n\",fontsize=\"12\")\n",
    "plt.ylabel(\"Error\",fontsize = \"12\")"
   ]
  },
  {
   "cell_type": "markdown",
   "metadata": {},
   "source": [
    "#### 2.\n",
    "\n",
    "Now discretize the same function with $m_{2}=50$ equally spaced points in the interval $[-1,1]$. Implement a routine that interpolates $f(x)$ piecewise linearly between these $m_{2}$ data points and evaluate EN2 at the $m=100$ points use above. Compare your result to the results of both exercises.\n",
    "\n"
   ]
  },
  {
   "cell_type": "markdown",
   "metadata": {},
   "source": [
    "### Newton interpolation \n",
    "\n",
    "This method of interpoolation allow find the polynomial of interpolation with $(n+1)$ nodes $(x_{i},f_{i})$, where $i = 0,...,n$. We take the hypothesis that $P_{n}$ will can be write in the next form \n",
    "\n",
    "$P_{n}(x_{o}) = c_{o} = f_{o}$\n",
    "\n",
    "$P_{n}(x_{1}) = c_{o} + c_{1}(x_{1}-x_{o}) = f_{1}$\n",
    "\n",
    "$P_{n}(x_{2}) = c_{o} + c_{1}(x_{2}-x_{o}) + c_{2}(x_{2}-x_{o})(x_{n}-x_{1}) = f_{2}$\n",
    "\n",
    "$\\vdots$\n",
    "\n",
    "$P_{n}(x_{2}) = c_{o} + c_{1}(x_{n}-x_{o})+\\cdots + c_{n}(x_{n}-x_{o})(x_{n}-x_{1})\\cdots (x-x_{n-1}) = f_{n}$\n",
    "\n",
    "\n",
    "\n"
   ]
  },
  {
   "cell_type": "markdown",
   "metadata": {},
   "source": [
    "Now, we need solve the polynomial like a triangular system. Nevertheless the results are more elegant and easy if we consider additional conditions like a the grade of the polynomial is a \"inductive\" element "
   ]
  },
  {
   "cell_type": "markdown",
   "metadata": {},
   "source": [
    "### **algorithm**\n",
    "\n",
    "**Input**\n",
    "\n",
    "   Nodes $(x_{i},f_{i})$, where $i = 0,\\cdots, n$\n",
    "    \n",
    "**Output**\n",
    "\n",
    "   polynomial coefficients $P_{0,1,2,3,\\cdots,n}: \\quad c:=(c_{o},c_{1},\\cdots,c_{n})$\n",
    "    \n",
    "---\n",
    "for $i=0,\\cdots,n$ do \n",
    "\n",
    "   $t_{i}:=f_{i}$\n",
    "   \n",
    "   for $k = (i-1)(-1),\\cdots,0$ do \n",
    "       \n",
    "   $t_{k} := \\frac{t_{k+1}-t_{k}}{x_{i}-x_{k}}$\n",
    "   \n",
    "   $c_{i}:=t_{o}$\n",
    "   \n",
    "output --> $c:=(c_{o},c_{1},\\cdots,c_{n})$\n",
    "\n",
    "---\n",
    "    \n"
   ]
  },
  {
   "cell_type": "code",
   "execution_count": 68,
   "metadata": {},
   "outputs": [
    {
     "data": {
      "text/plain": [
       "-1.0"
      ]
     },
     "execution_count": 68,
     "metadata": {},
     "output_type": "execute_result"
    }
   ],
   "source": [
    "m2 = 50\n",
    "x(m2)[0]"
   ]
  },
  {
   "cell_type": "code",
   "execution_count": 67,
   "metadata": {},
   "outputs": [
    {
     "data": {
      "text/plain": [
       "[<matplotlib.lines.Line2D at 0x118e90eb8>]"
      ]
     },
     "execution_count": 67,
     "metadata": {},
     "output_type": "execute_result"
    },
    {
     "data": {
      "image/png": "[encoded data removed]",
      "text/plain": [
       "<Figure size 432x288 with 1 Axes>"
      ]
     },
     "metadata": {
      "needs_background": "light"
     },
     "output_type": "display_data"
    }
   ],
   "source": [
    "plt.plot(x(m2),f(x(m2)),\"k.\")"
   ]
  },
  {
   "cell_type": "code",
   "execution_count": 109,
   "metadata": {},
   "outputs": [
    {
     "name": "stdout",
     "output_type": "stream",
     "text": [
      "0.04081632653061229 -0.04\n"
     ]
    },
    {
     "data": {
      "text/plain": [
       "[<matplotlib.lines.Line2D at 0x11ab288d0>]"
      ]
     },
     "execution_count": 109,
     "metadata": {},
     "output_type": "execute_result"
    },
    {
     "data": {
      "image/png": "[encoded data removed]",
      "text/plain": [
       "<Figure size 432x288 with 1 Axes>"
      ]
     },
     "metadata": {
      "needs_background": "light"
     },
     "output_type": "display_data"
    }
   ],
   "source": [
    "print(x(m2)[1]-x(m2)[0],(x(m2)[0]-x(m2)[-1])/len(x(m2)-1))\n",
    "\n",
    "\n",
    "def y(xp):\n",
    "    return f(x(m2)[10]) + ((f(x(m2)[11])-f(x(m2)[10]))/(x(m2)[11]-x(m2)[10]))*(xp-x(m2)[10])\n",
    "\n",
    "plt.plot(x(m2),f(x(m2)),\"k.\")\n",
    "plt.plot(xp,y(xp))"
   ]
  },
  {
   "cell_type": "code",
   "execution_count": 98,
   "metadata": {},
   "outputs": [
    {
     "data": {
      "text/plain": [
       "array([ 1.        ,  1.18367347,  1.36734694,  1.55102041,  1.73469388,\n",
       "        1.91836735,  2.10204082,  2.28571429,  2.46938776,  2.65306122,\n",
       "        2.83673469,  3.02040816,  3.20408163,  3.3877551 ,  3.57142857,\n",
       "        3.75510204,  3.93877551,  4.12244898,  4.30612245,  4.48979592,\n",
       "        4.67346939,  4.85714286,  5.04081633,  5.2244898 ,  5.40816327,\n",
       "        5.59183673,  5.7755102 ,  5.95918367,  6.14285714,  6.32653061,\n",
       "        6.51020408,  6.69387755,  6.87755102,  7.06122449,  7.24489796,\n",
       "        7.42857143,  7.6122449 ,  7.79591837,  7.97959184,  8.16326531,\n",
       "        8.34693878,  8.53061224,  8.71428571,  8.89795918,  9.08163265,\n",
       "        9.26530612,  9.44897959,  9.63265306,  9.81632653, 10.        ])"
      ]
     },
     "execution_count": 98,
     "metadata": {},
     "output_type": "execute_result"
    }
   ],
   "source": [
    "np.linspace(1,10,m2)"
   ]
  },
  {
   "cell_type": "code",
   "execution_count": null,
   "metadata": {},
   "outputs": [],
   "source": []
  }
 ],
 "metadata": {
  "kernelspec": {
   "display_name": "Python 3",
   "language": "python",
   "name": "python3"
  },
  "language_info": {
   "codemirror_mode": {
    "name": "ipython",
    "version": 3
   },
   "file_extension": ".py",
   "mimetype": "text/x-python",
   "name": "python",
   "nbconvert_exporter": "python",
   "pygments_lexer": "ipython3",
   "version": "3.6.4"
  }
 },
 "nbformat": 4,
 "nbformat_minor": 2
}
