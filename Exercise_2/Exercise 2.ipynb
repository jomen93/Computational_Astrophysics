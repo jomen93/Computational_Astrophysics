{
 "cells": [
  {
   "cell_type": "code",
   "execution_count": 8,
   "metadata": {},
   "outputs": [],
   "source": [
    "import numpy as np \n",
    "import matplotlib.pyplot as plt"
   ]
  },
  {
   "cell_type": "markdown",
   "metadata": {},
   "source": [
    "#### 1.\n",
    "\n",
    "Consider the Lagrangan interpolation of the function   $f(x) = \\frac{1}{25x^{2}+1}$ for $n=6$, $n=8$, $n=10$, $n =12$ done in Exercise 1. Now, discretize the domain with $m =100$ equalli spaced points in the interval $[-1,1]$. Compute the Error-Norm-2, defined as\n",
    "\n",
    "$$EN2 = \\frac{1}{m}\\sqrt{\\sum_{i=1}^{m}\\left(\\frac{p(x)-f(x)}{f(x)}\\right)^{2}}$$\n",
    "\n",
    "for the cases $n = \\{6,8,10,12\\}$\n",
    "\n",
    "**Solution**"
   ]
  },
  {
   "cell_type": "markdown",
   "metadata": {},
   "source": [
    "First copy the function write in the before Exercise "
   ]
  },
  {
   "cell_type": "code",
   "execution_count": 25,
   "metadata": {},
   "outputs": [],
   "source": [
    "def L(xi,yi,x):\n",
    "    data = zip(xi,yi)\n",
    "    n = len(data)\n",
    "    nx = len(x)\n",
    "    dx = [d[0] for d in data]\n",
    "    dy = [d[1] for d in data]\n",
    "    La = [0.]*(nx)\n",
    "    def b(j,xi):\n",
    "        v = 1.0\n",
    "        for k in range(n):\n",
    "            if k != j:\n",
    "                v *= (xi-dx[k])/(dx[j]-dx[k])\n",
    "        return v\n",
    "    for i,xi in enumerate(x):\n",
    "        for j in xrange(n):\n",
    "            La[i] +=dy[j]*b(j,xi)\n",
    "    \n",
    "    return np.array(La)"
   ]
  },
  {
   "cell_type": "markdown",
   "metadata": {},
   "source": [
    "Consider the discretization and EN2"
   ]
  },
  {
   "cell_type": "code",
   "execution_count": 50,
   "metadata": {},
   "outputs": [],
   "source": [
    "m=100\n",
    "n=[6,8,10,12]\n",
    "x = lambda n: np.linspace(-1,1,n)\n",
    "f = lambda x: 1/(25*x**2 + 1)\n",
    "\n",
    "Error = []\n",
    "for i in n:\n",
    "    xi = x(i)\n",
    "    yi = f(xi)\n",
    "    Error.append(np.sqrt(sum(((L(xi,yi,x(m))-f(x(m)))/f(x(m)))**2))/m)\n"
   ]
  },
  {
   "cell_type": "code",
   "execution_count": 60,
   "metadata": {},
   "outputs": [
    {
     "data": {
      "text/plain": [
       "Text(0,0.5,u'Error')"
      ]
     },
     "execution_count": 60,
     "metadata": {},
     "output_type": "execute_result"
    },
    {
     "data": {
      "image/png": "[encoded data removed]",
      "text/plain": [
       "<matplotlib.figure.Figure at 0x10890abd0>"
      ]
     },
     "metadata": {},
     "output_type": "display_data"
    }
   ],
   "source": [
    "plt.plot(n,Error,\"bo\")\n",
    "plt.grid(True)\n",
    "plt.title(\"Error-Norm-2\",fontsize=\"15\")\n",
    "plt.xlabel(\"n\",fontsize=\"12\")\n",
    "plt.ylabel(\"Error\",fontsize = \"12\")"
   ]
  },
  {
   "cell_type": "markdown",
   "metadata": {},
   "source": [
    "#### 2.\n",
    "\n",
    "Now discretize the same function with $m_{2}=50$ equally spaced points in the interval $[-1,1]$. Implement a routine that interpolates $f(x)$ piecewise linearly between these $m_{2}$ data points and evaluate EN2 at the $m=100$ points use above. Compare your result to the results of both exercises.\n",
    "\n"
   ]
  },
  {
   "cell_type": "code",
   "execution_count": 61,
   "metadata": {},
   "outputs": [
    {
     "data": {
      "text/plain": [
       "array([-1.        , -0.95918367, -0.91836735, -0.87755102, -0.83673469,\n",
       "       -0.79591837, -0.75510204, -0.71428571, -0.67346939, -0.63265306,\n",
       "       -0.59183673, -0.55102041, -0.51020408, -0.46938776, -0.42857143,\n",
       "       -0.3877551 , -0.34693878, -0.30612245, -0.26530612, -0.2244898 ,\n",
       "       -0.18367347, -0.14285714, -0.10204082, -0.06122449, -0.02040816,\n",
       "        0.02040816,  0.06122449,  0.10204082,  0.14285714,  0.18367347,\n",
       "        0.2244898 ,  0.26530612,  0.30612245,  0.34693878,  0.3877551 ,\n",
       "        0.42857143,  0.46938776,  0.51020408,  0.55102041,  0.59183673,\n",
       "        0.63265306,  0.67346939,  0.71428571,  0.75510204,  0.79591837,\n",
       "        0.83673469,  0.87755102,  0.91836735,  0.95918367,  1.        ])"
      ]
     },
     "execution_count": 61,
     "metadata": {},
     "output_type": "execute_result"
    }
   ],
   "source": [
    "m2 = 50\n",
    "x(m2)"
   ]
  },
  {
   "cell_type": "code",
   "execution_count": null,
   "metadata": {},
   "outputs": [],
   "source": []
  }
 ],
 "metadata": {
  "kernelspec": {
   "display_name": "Python 2",
   "language": "python",
   "name": "python2"
  },
  "language_info": {
   "codemirror_mode": {
    "name": "ipython",
    "version": 2
   },
   "file_extension": ".py",
   "mimetype": "text/x-python",
   "name": "python",
   "nbconvert_exporter": "python",
   "pygments_lexer": "ipython2",
   "version": "2.7.14"
  }
 },
 "nbformat": 4,
 "nbformat_minor": 2
}
