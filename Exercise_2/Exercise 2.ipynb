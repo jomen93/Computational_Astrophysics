{
 "cells": [
  {
   "cell_type": "code",
   "execution_count": 1,
   "metadata": {},
   "outputs": [],
   "source": [
    "import numpy as np \n",
    "import matplotlib.pyplot as plt"
   ]
  },
  {
   "cell_type": "markdown",
   "metadata": {},
   "source": [
    "## 1.\n",
    "\n",
    "Consider the Lagrangan interpolation of the function   $f(x) = \\frac{1}{25x^{2}+1}$ for $n=6$, $n=8$, $n=10$, $n =12$ done in Exercise 1. Now, discretize the domain with $m =100$ equalli spaced points in the interval $[-1,1]$. Compute the Error-Norm-2, defined as\n",
    "\n",
    "$$EN2 = \\frac{1}{m}\\sqrt{\\sum_{i=1}^{m}\\left(\\frac{p(x)-f(x)}{f(x)}\\right)^{2}}$$\n",
    "\n",
    "for the cases $n = \\{6,8,10,12\\}$\n",
    "\n",
    "**Solution**"
   ]
  },
  {
   "cell_type": "markdown",
   "metadata": {},
   "source": [
    "First copy the function write in the before Exercise "
   ]
  },
  {
   "cell_type": "code",
   "execution_count": 57,
   "metadata": {},
   "outputs": [],
   "source": [
    "def L(xi,yi,x):\n",
    "    n  = len(xi); nx = len(x)\n",
    "    dx = xi     ; dy = yi\n",
    "    La = [0.]*(nx)\n",
    "    def b(j,xi):\n",
    "        v = 1.0\n",
    "        for k in range(n):\n",
    "            if k != j:\n",
    "                v *= (xi-dx[k])/(dx[j]-dx[k])\n",
    "        return v\n",
    "    for i,xi in enumerate(x):\n",
    "        for j in range(n):\n",
    "            La[i] +=dy[j]*b(j,xi)\n",
    "    \n",
    "    return np.array(La)"
   ]
  },
  {
   "cell_type": "markdown",
   "metadata": {},
   "source": [
    "Consider the discretization and EN2"
   ]
  },
  {
   "cell_type": "code",
   "execution_count": 58,
   "metadata": {},
   "outputs": [],
   "source": [
    "m=100\n",
    "n=[6,8,10,12,14,16]\n",
    "x = lambda n: np.linspace(-1,1,n)\n",
    "f = lambda x: 1/(25*x**2 + 1)\n",
    "\n",
    "Error = []\n",
    "for i in n:\n",
    "    xi = x(i)\n",
    "    yi = f(xi)\n",
    "    Error.append(np.sqrt(sum(((L(xi,yi,x(m))-f(x(m)))/f(x(m)))**2))/m)\n"
   ]
  },
  {
   "cell_type": "code",
   "execution_count": 59,
   "metadata": {},
   "outputs": [
    {
     "data": {
      "text/plain": [
       "Text(0,0.5,'Error')"
      ]
     },
     "execution_count": 59,
     "metadata": {},
     "output_type": "execute_result"
    },
    {
     "data": {
      "image/png": "[encoded data removed]",
      "text/plain": [
       "<Figure size 432x288 with 1 Axes>"
      ]
     },
     "metadata": {
      "needs_background": "light"
     },
     "output_type": "display_data"
    }
   ],
   "source": [
    "plt.plot(n,Error,\"bo\")\n",
    "plt.grid(True)\n",
    "plt.title(\"Error-Norm-2\",fontsize=\"15\")\n",
    "plt.xlabel(\"n\",fontsize=\"12\")\n",
    "plt.ylabel(\"Error\",fontsize = \"12\")"
   ]
  },
  {
   "cell_type": "markdown",
   "metadata": {},
   "source": [
    "## 2.\n",
    "\n",
    "Now discretize the same function with $m_{2}=50$ equally spaced points in the interval $[-1,1]$. Implement a routine that interpolates $f(x)$ piecewise linearly between these $m_{2}$ data points and evaluate EN2 at the $m=100$ points use above. Compare your result to the results of both exercises.\n",
    "\n"
   ]
  },
  {
   "cell_type": "markdown",
   "metadata": {},
   "source": [
    "### Newton interpolation \n",
    "\n",
    "This method of interpoolation allow find the polynomial of interpolation with $(n+1)$ nodes $(x_{i},f_{i})$, where $i = 0,...,n$. We take the hypothesis that $P_{n}$ will can be write in the next form \n",
    "\n",
    "$P_{n}(x_{o}) = c_{o} = f_{o}$\n",
    "\n",
    "$P_{n}(x_{1}) = c_{o} + c_{1}(x_{1}-x_{o}) = f_{1}$\n",
    "\n",
    "$P_{n}(x_{2}) = c_{o} + c_{1}(x_{2}-x_{o}) + c_{2}(x_{2}-x_{o})(x_{n}-x_{1}) = f_{2}$\n",
    "\n",
    "$\\vdots$\n",
    "\n",
    "$P_{n}(x_{2}) = c_{o} + c_{1}(x_{n}-x_{o})+\\cdots + c_{n}(x_{n}-x_{o})(x_{n}-x_{1})\\cdots (x-x_{n-1}) = f_{n}$\n",
    "\n",
    "\n",
    "\n"
   ]
  },
  {
   "cell_type": "markdown",
   "metadata": {},
   "source": [
    "Now, we need solve the polynomial like a triangular system. Nevertheless the results are more elegant and easy if we consider additional conditions like a the grade of the polynomial is a \"inductive\" element "
   ]
  },
  {
   "cell_type": "markdown",
   "metadata": {},
   "source": [
    "### **algorithm**\n",
    "\n",
    "**Input**\n",
    "\n",
    "   Nodes $(x_{i},f_{i})$, where $i = 0,\\cdots, n$\n",
    "    \n",
    "**Output**\n",
    "\n",
    "   polynomial coefficients $P_{0,1,2,3,\\cdots,n}: \\quad c:=(c_{o},c_{1},\\cdots,c_{n})$\n",
    "    \n",
    "---\n",
    "for $i=0,\\cdots,n$ do \n",
    "\n",
    "   $t_{i}:=f_{i}$\n",
    "   \n",
    "   for $k = (i-1)(-1),\\cdots,0$ do \n",
    "       \n",
    "   $t_{k} := \\frac{t_{k+1}-t_{k}}{x_{i}-x_{k}}$\n",
    "   \n",
    "   $c_{i}:=t_{o}$\n",
    "   \n",
    "output --> $c:=(c_{o},c_{1},\\cdots,c_{n})$\n",
    "\n",
    "---\n",
    "    \n"
   ]
  },
  {
   "cell_type": "code",
   "execution_count": 144,
   "metadata": {},
   "outputs": [
    {
     "data": {
      "image/png": "[encoded data removed]",
      "text/plain": [
       "<Figure size 432x288 with 1 Axes>"
      ]
     },
     "metadata": {
      "needs_background": "light"
     },
     "output_type": "display_data"
    }
   ],
   "source": [
    "\n",
    "\n",
    "m2 = 50\n",
    "n=100\n",
    "x = lambda n: np.linspace(-1,1,n)\n",
    "f = lambda x: 1/(25*x**2 + 1)\n",
    "\n",
    "def inter_lin(f,x,m2):\n",
    "    \n",
    "    def y(xp,i):\n",
    "        return ((x(m2)[i+1]-xp)/(x(m2)[i+1]-x(m2)[i]))*f(x(m2)[i]) + ((x(m2)[i]-xp)/(x(m2)[i]-x(m2)[i+1]))*f(x(m2)[i+1])\n",
    "    \n",
    "    for i in range(len(x(m2))-1):\n",
    "        xp = np.linspace(x(m2)[i],x(m2)[i+1],100)\n",
    "        plt.plot(xp,y(xp,i),\"b-\")\n",
    "    plt.plot(x(m2),f(x(m2)),\"k.\")\n",
    "    plt.grid(True)\n",
    "    plt.xlabel(\"$x$\")\n",
    "    plt.ylabel(\"$f(x)$\")\n",
    "\n",
    "    \n",
    "def plot(n):\n",
    "    x = lambda n: np.linspace(-1,1,n)\n",
    "    f = lambda x: 1/(25*x**2 + 1)\n",
    "\n",
    "    xi = x(n)\n",
    "    yi = f(x(n))\n",
    "\n",
    "    plt.plot(x(250),f(x(250)),\"k-\")\n",
    "    plt.plot(x(100),L(xi,yi,x(100)),\"r--\",label = \"interpolacion\")\n",
    "    plt.plot(xi,yi,\"r.\",label = \"Puntos experimentales\")\n",
    "    plt.grid(True)\n",
    "    \n",
    "inter_lin(f,x,m2)\n",
    "\n"
   ]
  },
  {
   "cell_type": "markdown",
   "metadata": {},
   "source": [
    "Now the comparation between this two methods"
   ]
  },
  {
   "cell_type": "code",
   "execution_count": 145,
   "metadata": {},
   "outputs": [
    {
     "data": {
      "text/plain": [
       "Text(0.5,1,'Comparacion')"
      ]
     },
     "execution_count": 145,
     "metadata": {},
     "output_type": "execute_result"
    },
    {
     "data": {
      "image/png": "[encoded data removed]",
      "text/plain": [
       "<Figure size 432x288 with 1 Axes>"
      ]
     },
     "metadata": {
      "needs_background": "light"
     },
     "output_type": "display_data"
    }
   ],
   "source": [
    "inter_lin(f,x,m2)\n",
    "plot(n)\n",
    "plt.title(\"Comparacion\")"
   ]
  },
  {
   "cell_type": "markdown",
   "metadata": {},
   "source": [
    "## 3.\n",
    "\n",
    "Consider once more the function $f(x) = \\frac{1}{25x^{2}+1}$. Discretize the domain with $m=21$ equally spaced points in the interval $[-1,1]$ and evaluate numerically its first derivative (centered finite difference inside the interval and one-side derivative on the boundaries). Using this informatio, implement a routine that generates a piecewise cubic Hermite interpolting polynomial in the interval. Plot the function and the interpolating polynomial \n",
    "\n"
   ]
  },
  {
   "cell_type": "code",
   "execution_count": 184,
   "metadata": {},
   "outputs": [
    {
     "data": {
      "text/plain": [
       "Text(0.5,1,'Derivative of $f(x)=\\\\frac{1}{25x^{2}+1}$')"
      ]
     },
     "execution_count": 184,
     "metadata": {},
     "output_type": "execute_result"
    },
    {
     "data": {
      "image/png": "[encoded data removed]",
      "text/plain": [
       "<Figure size 432x288 with 1 Axes>"
      ]
     },
     "metadata": {
      "needs_background": "light"
     },
     "output_type": "display_data"
    }
   ],
   "source": [
    "m = 21\n",
    "x3 = x(21)\n",
    "der = np.zeros(m)\n",
    "der[0] = 0.5*(-3.0*f(x3)[0]+4.0*f(x3)[1]-f(x3)[2])/(x3[1]-x3[0])\n",
    "der[1:-1] = (np.roll(f(x3),1)[1:-1]-np.roll(f(x3),-1)[1:-1])/(np.roll(x3,1)[1:-1]-np.roll(x3,-1)[1:-1])\n",
    "der[-1] = 0.5*(3.0*f(x3)[-1]-4.0*f(x3)[-2]+f(x3)[-3])/(x3[-1]-x3[-2])\n",
    "plt.plot(x3,der,\"k.\",label = \"Discrete derivative\")\n",
    "plt.plot(x(100),(-50.*x(100))/(25.*x(100)**2 +1)**2, label = \"analytical result\")\n",
    "plt.grid(True)\n",
    "plt.xlabel(\"$x$\")\n",
    "plt.ylabel(\"$f(x)$\")\n",
    "plt.legend()\n",
    "plt.title(\"Derivative of $f(x)=\\\\frac{1}{25x^{2}+1}$\")"
   ]
  },
  {
   "cell_type": "markdown",
   "metadata": {},
   "source": [
    "## Hermite interpolation \n",
    "\n",
    "The lagrange interpolating polynomial $P_{n}(x)$, has been defined  so that the polynomial agress with the origianl function $f(x)$ at $n+1$ distinct input values $x_{o},\\cdots,x_{n}$. n the other handm Taylor polynomials aproximate a function using a single center point at wich we know the value of the function and the value of severla derivatives. Our goal is to generalize both the Lagrange polynomial and the Taylor polynomial by forming an interpolating polynomial that agrees with the function both at several distinct points and at given number of derivatives of the function at those distinct points. A polynomial that satisfies these conditions is called an **osculating polynomial**\n",
    "\n",
    "\n",
    "**Definition**\n",
    "\n",
    "Assume $x_{o},\\cdots,x_{n}\\in[a,b]$ are $n+1$ distinct numbers. Also , asumme $m_{o},\\cdots,m_{n}$ are nonnegative integers where each integer, $m_{i}$, corresponds with $x_{i}$. Further asumme $f\\in C^{m}[a,b]$ where $m = max\\{m_{i}:0\\leq i \\leq n\\}$.The **osculating polynomial** that approximates f is the polynomial $P(x)$ of least degree such that \n",
    "\n",
    "$$\\frac{d^{k}P(x_{i})}{dx^{k}} = \\frac{d^{k}f(x_{i})}{dx^{k}} \\quad \\text{for each  }1=0,\\cdots,n\\quad \\text{and  } k=0,\\cdots m_{i}$$\n",
    "\n",
    "That is:\n",
    "\n",
    "$$f(x_{o})=P(x_{o}), f'(x_{o})=P'(x_{o}),f''(x_{o})=P''(x_{o})\\cdots f^{(m_{o})}(x_{o})=P^{(m_{o})}(x_{o})$$\n",
    "$$\\vdots$$\n",
    "$$\\vdots$$\n",
    "$$f(x_{n})=P(x_{n}), f'(x_{n})=P'(x_{n}),f''(x_{n})=P''(x_{n})\\cdots f^{(m_{n})}(x_{n})=P^{(m_{n})}(x_{n})$$\n",
    "\n",
    "When there is a single point ,$x_{o}$, the soculating polynomial approximating $f$ is the Taylor polynomial of $m_{o}$ th degree\n",
    "\n",
    "**Definition**\n",
    "\n",
    "The osculating polynomial of $f$ formed when $m_{o}=m_{1}=\\cdots= m_{n} = 1$ is called the *Hermite polynomial*"
   ]
  },
  {
   "cell_type": "markdown",
   "metadata": {},
   "source": [
    "**Theorem**\n",
    "\n",
    "Assume $f \\in C^{1}[a,b]$ and $x_{o},\\cdots,x_{n}\\in [a,b]$ re distinct points. Then the unique polynomial of degree less than or equal to $2n+1$ id given by:\n",
    "\n",
    "$$H_{2n+1} = \\sum_{j=0}^{n}f(x_{j})H_{n,j}(x)+\\sum_{j=0}^{n}f^{'}(x_{j})\\hat{H}_{n,j}(x)$$\n",
    "\n",
    "where\n",
    "$$H_{n,j} = \\left[1-2(x-x_{j})L^{'}_{n,j}(x_{j})\\right]L^{2}_{n,j}(x)\\qquad \\hat{H}(x)=(x-x_{j})L^{2}_{n,j}(x)$$"
   ]
  },
  {
   "cell_type": "code",
   "execution_count": null,
   "metadata": {},
   "outputs": [],
   "source": []
  }
 ],
 "metadata": {
  "kernelspec": {
   "display_name": "Python 3",
   "language": "python",
   "name": "python3"
  },
  "language_info": {
   "codemirror_mode": {
    "name": "ipython",
    "version": 3
   },
   "file_extension": ".py",
   "mimetype": "text/x-python",
   "name": "python",
   "nbconvert_exporter": "python",
   "pygments_lexer": "ipython3",
   "version": "3.6.4"
  }
 },
 "nbformat": 4,
 "nbformat_minor": 2
}
