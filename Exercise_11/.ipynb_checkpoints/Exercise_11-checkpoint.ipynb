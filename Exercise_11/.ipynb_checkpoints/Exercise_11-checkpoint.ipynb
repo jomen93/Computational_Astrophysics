{
 "cells": [
  {
   "cell_type": "code",
   "execution_count": 1,
   "metadata": {},
   "outputs": [],
   "source": [
    "import numpy as np\n",
    "import matplotlib.pyplot as plt\n",
    "%matplotlib inline "
   ]
  },
  {
   "cell_type": "markdown",
   "metadata": {},
   "source": [
    "# Burguer's equation\n",
    "\n",
    "$$\\frac{\\partial u}{\\partial t} + u\\frac{\\partial u}{\\partial x}=0$$\n",
    "\n",
    "is often used as a first step into hydrodynamics. It is almost identical to the advection equation treated before, but this time the wave speed is NOT a constant $v$ but is given by the filed $u$ itself. This fact may lead to shicks, which are typical in hydrodynamics situations.\n",
    "\n",
    "\n",
    "### 1.\n",
    "\n",
    "User Burguuer's equation to evolve a sin profile \n",
    "\n",
    "$$\\Psi_{o} = \\Psi(x,t=0)=\\frac{1}{8}\\sin\\left(\\frac{2\\pi x}{L}\\right)$$\n",
    "\n",
    "in a [0,L] domain with L = 100. Use \"outflow\" boundary conditions\n",
    "\n",
    "Implement the upwind scheme and demostrate by experiment that the solution to Burguer's equation forms a shock after $t \\geq 140$ time has pased. Remeber that upwind means \"in the directio oposite of the velocity\".\n",
    "\n",
    "\n"
   ]
  },
  {
   "cell_type": "markdown",
   "metadata": {},
   "source": [
    "As a first step we plot the initial profile of $\\Psi$ function"
   ]
  },
  {
   "cell_type": "code",
   "execution_count": 2,
   "metadata": {},
   "outputs": [
    {
     "data": {
      "text/plain": [
       "<matplotlib.legend.Legend at 0x1181940b8>"
      ]
     },
     "execution_count": 2,
     "metadata": {},
     "output_type": "execute_result"
    },
    {
     "data": {
      "image/png": "[encoded data removed]",
      "text/plain": [
       "<Figure size 432x288 with 1 Axes>"
      ]
     },
     "metadata": {
      "needs_background": "light"
     },
     "output_type": "display_data"
    }
   ],
   "source": [
    "L = 100\n",
    "\n",
    "def phi(x):\n",
    "    return 1./8*np.sin(2*np.pi*x/L)\n",
    "\n",
    "x = np.linspace(0,L,256)\n",
    "\n",
    "plt.plot(x,phi(x),\"b-\",label = \"Initial profile\")\n",
    "plt.xlabel(\"x\")\n",
    "plt.ylabel(\"$\\Psi(x)$\")\n",
    "plt.grid(True)\n",
    "plt.legend()"
   ]
  },
  {
   "cell_type": "markdown",
   "metadata": {},
   "source": [
    "Consider a Euler step in the time and upwind first order scheme in the space in the following form\n",
    "\n",
    "$$\\frac{\\partial u}{\\partial t}=-u\\frac{\\partial u}{\\partial x}$$\n",
    "\n",
    "then\n",
    "\n",
    "$$\n",
    "\\left[u\\frac{\\partial u}{\\partial x}\\right]_{i} = \\left\\{\n",
    "        \\begin{array}{ll}\n",
    "            u_{i}\\frac{u_{i}-u_{i-1}}{x_{i}-x_{i-1}} & \\quad u_{i} \\geq 0 \\\\\n",
    "            u_{i}\\frac{u_{i+1}-u_{i}}{x_{i+1}-x_{i}} & \\quad u_{i} \\leq 0 \\\\ \n",
    "        \\end{array}\n",
    "    \\right.\n",
    "$$\n",
    "\n",
    "For this reason we have two way to discretize the evolve equation\n",
    "\n",
    "#### $u_{i} > 0$\n",
    "\n",
    "$$u_{i}^{n+1} = u_{i}^{n}-\\frac{\\Delta t}{x_{i}-x_{i-1}}u_{i}^{n}(u_{i}^{n}-u_{i-1}^{n})$$\n",
    "\n"
   ]
  },
  {
   "cell_type": "markdown",
   "metadata": {},
   "source": [
    "$$\n",
    "f(x) = \\left\\{\n",
    "        \\begin{array}{ll}\n",
    "            -x & \\quad x \\leq 0 \\\\\n",
    "            x & \\quad x > 0\n",
    "        \\end{array}\n",
    "    \\right.\n",
    "$$"
   ]
  },
  {
   "cell_type": "code",
   "execution_count": null,
   "metadata": {},
   "outputs": [],
   "source": []
  },
  {
   "cell_type": "code",
   "execution_count": null,
   "metadata": {},
   "outputs": [],
   "source": []
  }
 ],
 "metadata": {
  "kernelspec": {
   "display_name": "Python 3",
   "language": "python",
   "name": "python3"
  },
  "language_info": {
   "codemirror_mode": {
    "name": "ipython",
    "version": 3
   },
   "file_extension": ".py",
   "mimetype": "text/x-python",
   "name": "python",
   "nbconvert_exporter": "python",
   "pygments_lexer": "ipython3",
   "version": "3.6.4"
  }
 },
 "nbformat": 4,
 "nbformat_minor": 2
}
