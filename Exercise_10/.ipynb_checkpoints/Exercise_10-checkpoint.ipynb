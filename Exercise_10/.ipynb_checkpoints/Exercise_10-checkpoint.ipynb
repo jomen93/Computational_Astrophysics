{
 "cells": [
  {
   "cell_type": "code",
   "execution_count": 1,
   "metadata": {},
   "outputs": [],
   "source": [
    "import numpy as np\n",
    "import matplotlib.pyplot as plt\n",
    "%matplotlib inline"
   ]
  },
  {
   "cell_type": "markdown",
   "metadata": {},
   "source": [
    "# Poisson equation\n",
    "\n",
    "In these exercise you will solve the Poisson equation\n",
    "\n",
    "$$\\nabla^{2}\\phi = 4\\pi G\\rho$$\n",
    "\n",
    "assuming spherical symetry\n",
    "\n",
    "### Homogeneus Sphere\n",
    "\n",
    "Consider the Poisson equation as a second order ODE and reduce it to first order \n",
    "\n",
    "#### 1.\n",
    "\n",
    "Consider it with forward Euler using an appropiate initial condition. Remember , that the gravitational potential is determined only up to a constant, so you will need to adjust your result to match the boundary condition at $R = 10^{9} cm$\n",
    "\n",
    "$$\\phi(R) = -\\frac{Gm(R)}{R}$$\n",
    "\n",
    "Since you will have to compute the mass on your grid , assume that you are solving for the gravitational potential of a homogeneous sphere $(\\rho =cte)$ , which is given by \n",
    "\n",
    "$$\\phi(r) = \\frac{2}{3}\\pi G \\rho(r^{2}-3R^{2})$$\n",
    "\n",
    "Show that your code converges to the exact value of $\\phi$ at $R_{\\text{outer}}$. Doing this is a bit trichy and you must be careful to adjust your solution at $r = 0$ \n",
    "\n"
   ]
  },
  {
   "cell_type": "code",
   "execution_count": 9,
   "metadata": {},
   "outputs": [
    {
     "name": "stdout",
     "output_type": "stream",
     "text": [
      "0.0977517106552432 %\n"
     ]
    },
    {
     "data": {
      "image/png": "[encoded data removed]",
      "text/plain": [
       "<Figure size 432x288 with 1 Axes>"
      ]
     },
     "metadata": {
      "needs_background": "light"
     },
     "output_type": "display_data"
    }
   ],
   "source": [
    "def ϕ(r):\n",
    "    return (2/3.)*np.pi*G*rho*(r**2 - Rs**2)\n",
    "\n",
    "n = 1024\n",
    "Rs = 1e7 #m\n",
    "r = np.linspace(0,Rs,n)\n",
    "z = np.zeros(n)\n",
    "phi = np.zeros(n)\n",
    "G = 6.674e-11 \n",
    "rho = 1.0\n",
    "z[0]=0.0\n",
    "for i in range(1,n-1):\n",
    "    z[i+1] = z[i] +(r[i+1]-r[i])*(4*np.pi*G*rho-(2.0/r[i])*z[i])\n",
    "    phi[i+1]= phi[i]+(r[i+1]-r[i])*z[i]\n",
    "    \n",
    "    \n",
    "plt.plot(r,phi,\"b-\",label = \"Numerical\")\n",
    "plt.plot(r,ϕ(r)-ϕ(r)[0],\"r--\",label = \"Potencial\")\n",
    "plt.grid(True)\n",
    "plt.legend()\n",
    "a = ϕ(r)-ϕ(r)[0]\n",
    "print ((a[-1]-phi[-1])/(a[-1])*100,\"%\")\n"
   ]
  },
  {
   "cell_type": "markdown",
   "metadata": {},
   "source": [
    "#### 2.\n",
    "\n",
    "Now you will try the more sophisticated matrix method. Write a code to solve Poisson equation via the linear system \n",
    "\n",
    "$$\\mathcal{A}\\Phi = \\vec{b}$$\n",
    "\n",
    "Check that ypur implementation works for the particle case $\\rho = \\text{cte}$"
   ]
  },
  {
   "cell_type": "code",
   "execution_count": null,
   "metadata": {},
   "outputs": [],
   "source": []
  },
  {
   "cell_type": "code",
   "execution_count": null,
   "metadata": {},
   "outputs": [],
   "source": []
  },
  {
   "cell_type": "code",
   "execution_count": null,
   "metadata": {},
   "outputs": [],
   "source": []
  },
  {
   "cell_type": "code",
   "execution_count": null,
   "metadata": {},
   "outputs": [],
   "source": []
  },
  {
   "cell_type": "code",
   "execution_count": 2,
   "metadata": {},
   "outputs": [
    {
     "data": {
      "text/plain": [
       "[<matplotlib.lines.Line2D at 0x1182bd6a0>]"
      ]
     },
     "execution_count": 2,
     "metadata": {},
     "output_type": "execute_result"
    },
    {
     "data": {
      "image/png": "[encoded data removed]",
      "text/plain": [
       "<Figure size 432x288 with 1 Axes>"
      ]
     },
     "metadata": {
      "needs_background": "light"
     },
     "output_type": "display_data"
    }
   ],
   "source": [
    "n = 32\n",
    "Rs = 1e7 #m\n",
    "r = np.linspace(0,Rs,n)\n",
    "phi = np.zeros(n)\n",
    "G = 6.674e-11 \n",
    "rho = 1.0\n",
    "phi[0] = phi[1]\n",
    "for i in range(1,n-1):\n",
    "    alpha1 = 2.0*r[i+1]/((r[i+1]-r[i-1])*(r[i+1]-r[i]))\n",
    "    alpha2 = -2.0/((r[i+1]-r[i])*(r[i]-r[i-1]))\n",
    "    alpha3 = 2.0*r[i-1]/((r[i+1]-r[i-1])*(r[i]-r[i-1]))\n",
    "    phi[i+1] = (4.0*np.pi*G*rho-alpha2*phi[i]-alpha3*phi[i-1])/alpha1\n",
    "    \n",
    "plt.plot(r,phi,\"b.\")"
   ]
  },
  {
   "cell_type": "code",
   "execution_count": 75,
   "metadata": {},
   "outputs": [],
   "source": [
    "N = 128\n",
    "Rs = 1e7 #m\n",
    "dr = Rs/N\n",
    "r = np.linspace(0,Rs,N) \n",
    "rho = np.ones(len(r))\n",
    "L = np.zeros(len(r))\n",
    "R = np.zeros(len(r))\n",
    "phi = np.zeros(len(r))\n",
    "r[0]=0.01\n",
    "\n",
    "L[0] = (1./dr)*((1./r[0]) + (1./dr))/((-2.0/(dr**2))+(-(1./dr)*((1./r[0]) + (1./dr))))\n",
    "R[0] = rho[0]/((-2.0/(dr**2))+(-(1./dr)*((1./r[0]) + (1./dr))))\n",
    "\n",
    "for i in range(1,len(r)):\n",
    "    alpha1 = (1./dr)*((1./r[i]) + (1./dr)) \n",
    "    alpha2 = -2.0/(dr**2)\n",
    "    alpha3 = -(1./dr)*((1./r[i]) + (1./dr)) \n",
    "\n",
    "    L[i] = alpha1/(alpha2-L[i-1]*alpha3)\n",
    "    R[i] = (rho[i]-R[i-1]*alpha3)/(alpha2-L[i-1]*alpha3)\n",
    "    \n",
    "phi[-1] = R[-1]\n",
    "for i in range(N-2,1,-1):\n",
    "    phi[i]=4.0*np.pi*G*(R[i]-L[i]*phi[i+1])"
   ]
  },
  {
   "cell_type": "code",
   "execution_count": 78,
   "metadata": {},
   "outputs": [
    {
     "name": "stdout",
     "output_type": "stream",
     "text": [
      "1\n",
      "2\n",
      "3\n",
      "4\n",
      "5\n",
      "6\n",
      "7\n",
      "8\n",
      "9\n"
     ]
    }
   ],
   "source": []
  },
  {
   "cell_type": "code",
   "execution_count": 77,
   "metadata": {},
   "outputs": [
    {
     "data": {
      "text/plain": [
       "[<matplotlib.lines.Line2D at 0x119a8d080>]"
      ]
     },
     "execution_count": 77,
     "metadata": {},
     "output_type": "execute_result"
    },
    {
     "data": {
      "image/png": "[encoded data removed]",
      "text/plain": [
       "<Figure size 432x288 with 1 Axes>"
      ]
     },
     "metadata": {
      "needs_background": "light"
     },
     "output_type": "display_data"
    }
   ],
   "source": [
    "plt.plot(-r[2:-2],phi[2:-2],\"b.\")"
   ]
  },
  {
   "cell_type": "code",
   "execution_count": null,
   "metadata": {},
   "outputs": [],
   "source": [
    "a = (1/dr)*( 1/r[i] + 1/dr)"
   ]
  }
 ],
 "metadata": {
  "kernelspec": {
   "display_name": "Python 3",
   "language": "python",
   "name": "python3"
  },
  "language_info": {
   "codemirror_mode": {
    "name": "ipython",
    "version": 3
   },
   "file_extension": ".py",
   "mimetype": "text/x-python",
   "name": "python",
   "nbconvert_exporter": "python",
   "pygments_lexer": "ipython3",
   "version": "3.6.4"
  }
 },
 "nbformat": 4,
 "nbformat_minor": 2
}
