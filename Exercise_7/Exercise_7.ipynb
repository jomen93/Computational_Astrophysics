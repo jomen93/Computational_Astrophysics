{
 "cells": [
  {
   "cell_type": "code",
   "execution_count": 2,
   "metadata": {},
   "outputs": [],
   "source": [
    "import numpy as np\n",
    "import matplotlib.pyplot as plt"
   ]
  },
  {
   "cell_type": "markdown",
   "metadata": {},
   "source": [
    "# ODE Integration: Stellar structure\n",
    "\n",
    "Consider the system of two ODEs describing a simple model of stellar structure \n",
    "\n",
    "$$\\frac{dP}{dr} = -\\frac{GM(r)}{r^{2}}\\qquad \\text{Hydrostatic Equilibrium}$$\n",
    "$$\\frac{dM}{dr} = 4\\pi\\rho r^{2}\\qquad \\text{Mass conservation}$$\n",
    "\n",
    "To complete the set of equiations als requieres an Equation of state (EOS), i.e. a relation between density and pressure. Since we will not solve an internal energy equation, we will use a simplified EOS, that is barotropic $P = P(\\rho)$. A posible choice is the polytropic EOS\n",
    "\n",
    "$$P = K\\rho^{\\Gamma}$$\n",
    "\n",
    "Where $K$ is the polytropic constant and $\\Gamma$ is the adiabatic index, i.e. the ratio of the specific heats. A good kind of star model with a barotropic EOS is a white dwarf, which is supported by the pressure of degenerate electrons, in the case of a fully relativistically degenerate white dwarf, we have the values\n",
    "\n",
    "$$K = 1.244\\times10^{15}(0.5)^{\\Gamma} \\frac{dyne}{cm^{2}}\\left(\\frac{cm^{3}}{g}\\right)^{\\Gamma}$$\n",
    "$$\\Gamma = \\frac{4}{3}$$"
   ]
  },
  {
   "cell_type": "markdown",
   "metadata": {},
   "source": [
    "In this exercise, you will solve the simplified stellar structure equation by integrating them from the origin to the stellar surface using Forward Euler, RK2, and optionally also RK3 or RK4. You will demostrate the convergence."
   ]
  },
  {
   "cell_type": "markdown",
   "metadata": {},
   "source": [
    "# Euler Method"
   ]
  },
  {
   "cell_type": "markdown",
   "metadata": {},
   "source": [
    "For the initial value problemas , it is sufficient to consider the firts oder ordinary differential equation with an initial condition \n",
    "\n",
    "$$\\frac{d\\phi(t)}{dt} = f(t,\\phi(t)); \\qquad \\phi(t_{o}) = \\phi^{o}$$\n",
    "\n",
    "Integrating the before equation we have the next equation\n",
    "\n",
    "$$\\int_{t_{n}}^{t_{n+1}}\\frac{d\\phi}{dt} = \\phi^{n+1}-\\phi^{n} = \\int_{t_{n}}^{t_{n+1}}f(t,\\phi(t))dt$$\n",
    "\n",
    "The mean value theorem of calculus guarantees that if the integrand is evaluated at the proper point $t=\\tau$ between $t_{n}$ and $t_{n+1}$, the integral is equal to $f(\\tau,\\phi(\\tau))\\Delta t$, but this is of little use since $\\tau$ is unknow.\n",
    "\n"
   ]
  },
  {
   "cell_type": "markdown",
   "metadata": {},
   "source": [
    "If the integral on the right hand side is estimated using the value of the integrand at the initial point , we have:\n",
    "\n",
    "$$\\phi^{n+1} = \\phi^{n} + f(t_{n+1},\\phi^{n+1})\\Delta t$$\n",
    "\n",
    "\n",
    "There are a number of definitions of stability in the literature. We shall use a rough definition that class a method stable if it produces a bounded solution when the solution of the underlying differential equation is also bounded. For the explicit Euler method, stability requires:\n",
    "\n",
    "$$\\left|1+\\Delta t \\frac{\\partial f(t,\\phi)}{\\partial \\phi}\\right|<1$$\n",
    "\n"
   ]
  },
  {
   "cell_type": "markdown",
   "metadata": {},
   "source": [
    "We need the dimensionless equation for this, we define a new variables, then\n",
    "\n",
    "$$r^{*} = \\frac{r}{L} \\qquad dr^{*} = \\frac{dr}{L}$$\n",
    "\n",
    "$$P^{*} = \\frac{P}{p} \\qquad dP^{*} = \\frac{dP}{p}$$\n",
    "\n",
    "$$M^{*} = \\frac{M}{m} \\qquad dM^{*} = \\frac{dM}{m}$$\n",
    "\n",
    "$$rho^{*} = \\frac{rho}{\\alpha} $$\n",
    "\n",
    "\n",
    "Now we have the differential equations and interchange the $^{*}$ variables \n",
    "\n",
    "$$\\frac{dM}{dr} = B\\rho r^{2} \\qquad B \\frac{4\\pi \\alpha L^{3}}{m}$$\n",
    "\n",
    "$$\\frac{dP}{dr} =-A\\frac{M(r)}{r^{2}}\\qquad A = \\frac{Gm\\alpha}{pL}$$\n",
    "\n",
    "$$\\rho = C(P)^{1/\\Gamma}\\qquad C = \\frac{1}{\\alpha}\\left(\\frac{p}{k}\\right)^{1/\\Gamma}$$\n",
    "\n",
    "\n",
    "we choose the solar values for the scale of the system \n",
    "\n"
   ]
  },
  {
   "cell_type": "code",
   "execution_count": 18,
   "metadata": {},
   "outputs": [
    {
     "name": "stdout",
     "output_type": "stream",
     "text": [
      "adiabatic index =  1.3333333333333333\n",
      "Polytropic index =  2.6801167543996628e+16\n"
     ]
    }
   ],
   "source": [
    "L = 6.957e8    #Solar radius (m)\n",
    "alpha = 1408   #Solar mean density (Kg/m3)\n",
    "m = 1.989e30   #Solar Mass (Kg)\n",
    "G = 6.674e-11  #Gravitational constant m3/(Kgs2) \n",
    "p = 2.466e16   #Interior pressure on the sun (Pa)\n",
    "gamma = 4/3.   #Adiabatic index\n",
    "k = 1.244e15*((0.5*100e-1)**gamma)   #Polytropic constant \n",
    "\n",
    "print(\"adiabatic index = \",gamma)\n",
    "print(\"Polytropic index = \",k)\n",
    "\n",
    "\n"
   ]
  },
  {
   "cell_type": "markdown",
   "metadata": {},
   "source": [
    "The stability of the method use the expresion\n",
    "\n",
    "\n",
    "$$\\left|1+\\Delta t \\frac{\\partial f(t,\\phi)}{\\partial \\phi}\\right|<1$$\n",
    "\n",
    "Now\n",
    "\n",
    "----\n",
    "\n",
    "\n",
    "The evolution equations of the system are\n",
    "\n",
    "$$M^{i+1} = M^{i} + (r^{i+1}-r^{i})f(r^{i})\\qquad f(r^{i}) = B\\rho r^{2}$$\n",
    "\n",
    "$$P^{i+1} = P^{i} + (r^{i+1}-r^{i})g(r^{i})\\qquad g(r^{i}) = -A\\frac{M^{i}}{(r^{i})^{2}}\\rho $$\n",
    "\n",
    "\n"
   ]
  },
  {
   "cell_type": "markdown",
   "metadata": {},
   "source": [
    "# Runge-Kutta Methods\n",
    "\n",
    "## Second order\n",
    "\n",
    "The second order Runge-Kutta method consist of two steps . The first may be regarder as a half-step predictor based on the explicit Euler method; it is folled by a midpoint rule corrector whic makes the method second order:\n",
    "\n",
    "$$\\phi^{*}_{n+\\frac{1}{2}} = \\phi^{n} + \\frac{\\Delta t}{2}f(t_{n},\\phi^{n})$$\n",
    "\n",
    "$$\\phi^{n+1} = \\phi^{n} + \\Delta t\\ f(t_{n+\\frac{1}{2}},\\phi^{*}_{n+\\frac{1}{2}})$$\n",
    "\n",
    "this method is easy to use and is self-starting , only requires the initial condition data for the differential equation. It is very similar with the predictor corrector method \n",
    "\n",
    "\n"
   ]
  },
  {
   "cell_type": "markdown",
   "metadata": {},
   "source": [
    "## Fourth order\n",
    "\n",
    "Runge-Kutta methods of higher order have been developed;the most popular one is of fourth order. The first step two steps of this method use an explicit Euler predictor and an implicit Euler corrector at $t_{n+\\frac{1}{2}}$. This is followed by a midpoint rule predictor for the full step and a Simpso'ns rule final corrector that gives the method its fourth order. The method is \n",
    "\n",
    "$$\\phi^{*}_{n+\\frac{1}{2}} = \\phi^{n}+\\frac{\\Delta t}{2}f(t_{n},\\phi^{n})$$\n",
    "\n",
    "$$\\phi^{**}_{n+\\frac{1}{2}} = \\phi^{n}+\\frac{\\Delta t}{2}f(t_{n+\\frac{1}{2}},\\phi^{*}_{n+\\frac{1}{2}}$$\n",
    "\n",
    "$$\\phi^{**}_{n+1} = \\phi^{n}+\\Delta t\\ f(t_{n+\\frac{1}{2}},\\phi^{**}_{n+\\frac{1}{2}})$$\n",
    "\n",
    "$$\\phi^{n+1} = \\phi^{n}+\\frac{\\Delta t}{6}\\left[f(t_{n},\\phi^{n}) +2f(t_{n+\\frac{1}{2}},\\phi^{*}_{n+\\frac{1}{2}})+2f(t_{n+\\frac{1}{2}},\\phi^{**}_{n+\\frac{1}{2}})+f(t_{n+1},\\phi^{*}_{n+1})\\right]$$\n",
    "\n",
    "The major problem with the Runge-Kutta methods is that it is somewhat difficult to develop method of very high order and, as is readdily seen from the methods give above"
   ]
  },
  {
   "cell_type": "code",
   "execution_count": 84,
   "metadata": {},
   "outputs": [],
   "source": [
    "n = 1000\n",
    "LL = 6600\n",
    "r = np.linspace(0,LL,n)\n",
    "r[0] = r[1]\n",
    "M = np.zeros(n)\n",
    "P = np.zeros(n)\n",
    "rho = np.zeros(n)\n",
    "\n",
    "rho[0] = 10e10*(1/1000)*(100e3) #kg/m3\n",
    "P[0] = ((rho[0]/1)**gamma)*1e-10\n",
    "M[0] = 0.0\n",
    "\n",
    "def f(r,rho):\n",
    "    #return B*rho*(r**2)\n",
    "    return 4*np.pi*rho*(r**2)\n",
    "    \n",
    "def g(r,M,rho):\n",
    "    #return -(A*M*rho)/r**2\n",
    "    return -(G*M*rho)/r**2\n",
    "\n",
    "\n",
    "def Euler(r,M,P,rho):\n",
    "    for i in range(n-1):\n",
    "        M[i+1] = M[i]+(r[i+1]-r[i])*f(r[i],rho[i])\n",
    "        P[i+1] = P[i]+(r[i+1]-r[i])*g(r[i],M[i],rho[i])\n",
    "        rho[i+1] = P[i]**(1/gamma)\n",
    "    return r,M,P,rho\n",
    "\n",
    "def RK2(r,M,P,rho):\n",
    "    for i in range(n-1):\n",
    "        Mtemp = M[i] + 0.5*(r[i+1]-r[i])*f(r[i],rho[i])\n",
    "        Ptemp = P[i] + 0.5*(r[i+1]-r[i])*g(r[i],Mtemp,rho[i])\n",
    "        rhotemp =(Ptemp**(1/gamma))\n",
    "        \n",
    "        M[i+1] = M[i] + (r[i+1]-r[i])*f(0.5*r[i],rhotemp)\n",
    "        P[i+1] = P[i] + (r[i+1]-r[i])*g(0.5*r[i],M[i],rhotemp)\n",
    "        rho[i+1] = (P[i]**(1/gamma))\n",
    "    return r,M,P,rho\n",
    "\n",
    "def RK4(r,M,P,rho):\n",
    "    for i in range(n-1):\n",
    "        Mtemp = M[i] + 0.5*(r[i+1]-r[i])*f(r[i],rho[i])\n",
    "        Ptemp = P[i] + 0.5*(r[i+1]-r[i])*g(r[i],Mtemp,rho[i])\n",
    "        rhotemp =(Ptemp**(1/gamma))\n",
    "        \n",
    "        Mtemp2 = M[i] + 0.5*(r[i+1]-r[i])*f(0.5*r[i],rhotemp)\n",
    "        Ptemp2 = P[i] + 0.5*(r[i+1]-r[i])*g(0.5*r[i],Mtemp2,rhotemp)\n",
    "        rhotemp2 =(Ptemp2**(1/gamma))\n",
    "        \n",
    "        Mtemp3 = M[i] + (r[i+1]-r[i])*f(0.5*r[i],rhotemp2)\n",
    "        Ptemp3 = P[i] + (r[i+1]-r[i])*g(0.5*r[i],Mtemp3,rhotemp2)\n",
    "        rhotemp3 = (Ptemp3**(1/gamma))\n",
    "        \n",
    "        M[i+1] = M[i] + (1/6.)*(r[i+1]-r[i])*(f(r[i],rho[i])+2.*f(0.5*r[i],rhotemp)+2.*f(0.5*r[i],rhotemp2)+f(r[i+1],rhotemp3))\n",
    "        P[i+1] = P[i] + (1/6.)*(r[i+1]-r[i])*(g(r[i],M[i],rho[i])+2.0*g(0.5*r[i],Mtemp,rhotemp)+2.0*g(0.5*r[i],Mtemp2,rhotemp2)+g(r[i+1],Mtemp2,rhotemp3))\n",
    "        rho[i+1] = (P[i+1]**(1/gamma))\n",
    "    return r,M,P,rho\n",
    "        \n",
    "\n",
    "#\n",
    "#\n"
   ]
  },
  {
   "cell_type": "markdown",
   "metadata": {},
   "source": [
    "Now we show the plots"
   ]
  },
  {
   "cell_type": "code",
   "execution_count": 96,
   "metadata": {},
   "outputs": [
    {
     "data": {
      "image/png": "[encoded data removed]",
      "text/plain": [
       "<Figure size 432x288 with 2 Axes>"
      ]
     },
     "metadata": {
      "needs_background": "light"
     },
     "output_type": "display_data"
    }
   ],
   "source": [
    "rE,mE,pE,rhoe = Euler(r,M,P,rho)\n",
    "plt.plot(rE,mE/m,\"r-\")\n",
    "plt.tick_params(axis=\"y\",labelcolor=\"r\")\n",
    "#plt.plot(rRk2,mRk2/m,\"b--\",label = \"RK2\")\n",
    "#plt.plot(rRk4,mRk4/m,\"k-.\",label = \"RK4\")\n",
    "\n",
    "\n",
    "plt.xlabel(\"r[m]\")\n",
    "plt.ylabel(\"$m[M_{\\odot}]$\",color = \"r\")\n",
    "plt.title(\"Euler Method\")\n",
    "plt.grid(True)\n",
    "plt.axvline(x=1450, color='k', linestyle='--')\n",
    "#plt.yscale(\"log\")\n",
    "#plt.xscale(\"log\")\n",
    "\n",
    "plt.twinx()\n",
    "color = \"blue\"\n",
    "plt.ylabel(\"P[$p_{\\odot}$]\", color = color)\n",
    "plt.plot(rE,pE/p,\"b-\")\n",
    "plt.tick_params(axis=\"y\",labelcolor=color)\n",
    "#plt.yscale(\"log\")\n",
    "#plt.xscale(\"log\")"
   ]
  },
  {
   "cell_type": "code",
   "execution_count": 97,
   "metadata": {},
   "outputs": [
    {
     "data": {
      "image/png": "[encoded data removed]",
      "text/plain": [
       "<Figure size 432x288 with 2 Axes>"
      ]
     },
     "metadata": {
      "needs_background": "light"
     },
     "output_type": "display_data"
    }
   ],
   "source": [
    "rRk2,mRk2,pRk2,rhoRk2 = RK2(r,M,P,rho)\n",
    "plt.plot(rRk2,mRk2/m,\"r-\")\n",
    "plt.tick_params(axis=\"y\",labelcolor=\"r\")\n",
    "plt.xlabel(\"r[m]\")\n",
    "plt.ylabel(\"$m[M_{\\odot}]$\",color = \"r\")\n",
    "plt.title(\"Runge-Kutta 2 Method\")\n",
    "plt.grid(True)\n",
    "plt.axvline(x=1450, color='k', linestyle='--')\n",
    "#plt.yscale(\"log\")\n",
    "#plt.xscale(\"log\")\n",
    "\n",
    "plt.twinx()\n",
    "color = \"blue\"\n",
    "plt.ylabel(\"P[$p_{\\odot}$]\", color = color)\n",
    "plt.plot(rRk2,pRk2/p,\"b-\")\n",
    "plt.tick_params(axis=\"y\",labelcolor=color)\n",
    "#plt.yscale(\"log\")\n",
    "#plt.xscale(\"log\")"
   ]
  },
  {
   "cell_type": "code",
   "execution_count": 95,
   "metadata": {},
   "outputs": [
    {
     "name": "stderr",
     "output_type": "stream",
     "text": [
      "/Library/Frameworks/Python.framework/Versions/3.6/lib/python3.6/site-packages/ipykernel_launcher.py:48: RuntimeWarning: invalid value encountered in double_scalars\n"
     ]
    },
    {
     "data": {
      "image/png": "[encoded data removed]",
      "text/plain": [
       "<Figure size 432x288 with 2 Axes>"
      ]
     },
     "metadata": {
      "needs_background": "light"
     },
     "output_type": "display_data"
    }
   ],
   "source": [
    "rRk4,mRk4,pRk4,rhoRk4 = RK4(r,M,P,rho)\n",
    "plt.plot(rRk4,mRk4/m,\"r-\")\n",
    "plt.tick_params(axis=\"y\",labelcolor=\"r\")\n",
    "#plt.plot(rRk2,mRk2/m,\"b--\",label = \"RK2\")\n",
    "#plt.plot(rRk4,mRk4/m,\"k-.\",label = \"RK4\")\n",
    "\n",
    "\n",
    "plt.xlabel(\"r[m]\")\n",
    "plt.ylabel(\"$m[M_{\\odot}]$\",color = \"r\")\n",
    "plt.title(\"Runge-Kutta 4 Method\")\n",
    "plt.grid(True)\n",
    "plt.axvline(x=1200, color='k', linestyle='--')\n",
    "#plt.yscale(\"log\")\n",
    "#plt.xscale(\"log\")\n",
    "\n",
    "plt.twinx()\n",
    "color = \"blue\"\n",
    "plt.ylabel(\"P[$p_{\\odot}$]\", color = color)\n",
    "plt.plot(rRk4,pRk4/p,\"b-\")\n",
    "plt.tick_params(axis=\"y\",labelcolor=color)\n",
    "#plt.yscale(\"log\")\n",
    "#plt.xscale(\"log\")"
   ]
  },
  {
   "cell_type": "markdown",
   "metadata": {},
   "source": [
    "Mass Converge use Runge-Kutta 4"
   ]
  },
  {
   "cell_type": "code",
   "execution_count": 87,
   "metadata": {},
   "outputs": [
    {
     "name": "stdout",
     "output_type": "stream",
     "text": [
      "Mass of the star =  1.0484474853738248e-15 Solar Mass\n"
     ]
    },
    {
     "data": {
      "image/png": "[encoded data removed]",
      "text/plain": [
       "<Figure size 432x288 with 1 Axes>"
      ]
     },
     "metadata": {
      "needs_background": "light"
     },
     "output_type": "display_data"
    }
   ],
   "source": [
    "plt.plot(rRk4,mRk4/m,\"r-\")\n",
    "plt.axhline(y=np.max(mRk4/m), color='k', linestyle='--')\n",
    "\n",
    "\n",
    "plt.xlabel(\"r[$R_{\\odot}$]\")\n",
    "plt.ylabel(\"m[$M_{\\odot}$]\")\n",
    "plt.title(\"Density\")\n",
    "plt.grid(True)\n",
    "plt.yscale(\"log\")\n",
    "#plt.xscale(\"log\")\n",
    "\n",
    "print(\"Mass of the star = \",np.max(mRk4/m), \"Solar Mass\")"
   ]
  },
  {
   "cell_type": "markdown",
   "metadata": {},
   "source": []
  },
  {
   "cell_type": "code",
   "execution_count": null,
   "metadata": {},
   "outputs": [],
   "source": []
  },
  {
   "cell_type": "code",
   "execution_count": null,
   "metadata": {},
   "outputs": [],
   "source": []
  }
 ],
 "metadata": {
  "kernelspec": {
   "display_name": "Python 3",
   "language": "python",
   "name": "python3"
  },
  "language_info": {
   "codemirror_mode": {
    "name": "ipython",
    "version": 3
   },
   "file_extension": ".py",
   "mimetype": "text/x-python",
   "name": "python",
   "nbconvert_exporter": "python",
   "pygments_lexer": "ipython3",
   "version": "3.6.4"
  }
 },
 "nbformat": 4,
 "nbformat_minor": 2
}
