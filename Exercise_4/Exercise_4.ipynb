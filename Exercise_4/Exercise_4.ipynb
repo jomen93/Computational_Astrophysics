{
 "cells": [
  {
   "cell_type": "code",
   "execution_count": null,
   "metadata": {},
   "outputs": [],
   "source": []
  },
  {
   "cell_type": "markdown",
   "metadata": {},
   "source": [
    "## 1. Eccentric Anomaly \n",
    "\n",
    "<img src=\"elipse.png\">\n",
    "\n",
    "A planet is moving around the sun in an elliptic Keplerian orbit with semi- major axis $a$, semi-minor axis $b$, and eccentricity $e=\\sqrt{1-\\frac{a^{2}}{b^{2}}}$. The planet last perihelion occur at $t=0$. The angular frequency of the motion is $\\omega =2\\pi/T$, where $T$ is the duration of its orbit(period).\n",
    "\n",
    "If we define a @D coordinate system $(x,y)$ with origin at the center of the ellipse, then the points on the ellipse are decribed by tthe equation \n",
    "\n",
    "$$\\frac{x^{2}}{a^{2}}+\\frac{y^{2}}{b^{2}} = 1$$\n",
    "\n",
    "the location of the planet in the $(x,y)$ coordinate system is guven by \n",
    "\n",
    "$$x = a\\sin E$$\n",
    "$$y=b\\sin E$$\n",
    "\n",
    "where $E$ is the *eccentric anomaly*, whic is defined by \n",
    "\n",
    "$$E = \\omega t + e\\sin E$$\n",
    "\n",
    "The insteresting equation here is the before equation , which gives an implicit non-linear relations for E. In order to find $E$ for a given $\\omega t$ and $e$, we will need to find the solution to the following equation:\n",
    "\n",
    "$$0 = E-\\omega t -e\\sin E$$\n",
    "\n",
    "in other words, we have to find this equation's root!\n",
    "\n"
   ]
  },
  {
   "cell_type": "markdown",
   "metadata": {},
   "source": [
    "* The Earth an orbital period of $365.25635$ days, a semi-major axis $a = 1.496\\times10^{8}km =1UA$, and it's orbit has an "
   ]
  }
 ],
 "metadata": {
  "kernelspec": {
   "display_name": "Python 3",
   "language": "python",
   "name": "python3"
  },
  "language_info": {
   "codemirror_mode": {
    "name": "ipython",
    "version": 3
   },
   "file_extension": ".py",
   "mimetype": "text/x-python",
   "name": "python",
   "nbconvert_exporter": "python",
   "pygments_lexer": "ipython3",
   "version": "3.6.4"
  }
 },
 "nbformat": 4,
 "nbformat_minor": 2
}
