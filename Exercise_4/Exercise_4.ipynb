{
 "cells": [
  {
   "cell_type": "code",
   "execution_count": 2,
   "metadata": {},
   "outputs": [],
   "source": [
    "import numpy as np\n",
    "import matplotlib.pyplot as plt \n",
    "import scipy as sp "
   ]
  },
  {
   "cell_type": "markdown",
   "metadata": {},
   "source": [
    "## 1. Eccentric Anomaly \n",
    "\n",
    "<img src=\"elipse.png\">\n",
    "\n",
    "A planet is moving around the sun in an elliptic Keplerian orbit with semi- major axis $a$, semi-minor axis $b$, and eccentricity $e=\\sqrt{1-\\frac{a^{2}}{b^{2}}}$. The planet last perihelion occur at $t=0$. The angular frequency of the motion is $\\omega =2\\pi/T$, where $T$ is the duration of its orbit(period).\n",
    "\n",
    "If we define a @D coordinate system $(x,y)$ with origin at the center of the ellipse, then the points on the ellipse are decribed by tthe equation \n",
    "\n",
    "$$\\frac{x^{2}}{a^{2}}+\\frac{y^{2}}{b^{2}} = 1$$\n",
    "\n",
    "the location of the planet in the $(x,y)$ coordinate system is guven by \n",
    "\n",
    "$$x = a\\sin E$$\n",
    "$$y=b\\sin E$$\n",
    "\n",
    "where $E$ is the *eccentric anomaly*, whic is defined by \n",
    "\n",
    "$$E = \\omega t + e\\sin E$$\n",
    "\n",
    "The insteresting equation here is the before equation , which gives an implicit non-linear relations for E. In order to find $E$ for a given $\\omega t$ and $e$, we will need to find the solution to the following equation:\n",
    "\n",
    "$$0 = E-\\omega t -e\\sin E$$\n",
    "\n",
    "in other words, we have to find this equation's root!\n",
    "\n"
   ]
  },
  {
   "cell_type": "markdown",
   "metadata": {},
   "source": [
    "* The Earth an orbital period of $365.25635$ days, a semi-major axis $a = 1.496\\times10^{8}km =1UA$, and it's orbit has an accentricity of $e = 0.0167$. Compute $E$, $x$ and $y$ for $t=91$ days using your favorite root finding method. The fractional method error in $E$ at the end of your computation (from one iteration to the next) should be less than $10^{-10}$. How many iterations does your method need, i.e, how, quickly does it converge ?\n"
   ]
  },
  {
   "cell_type": "markdown",
   "metadata": {},
   "source": [
    "## Newton's method \n",
    "\n",
    "Let us assumen that equation \n",
    "\n",
    "$$f(x) = 0$$\n",
    "\n",
    "for the real-valued differentiable function $f(x)$ posseses a real zero $\\xi$ in the interval $[a,b]$ and that $f'(x)$ and $f''(x)$ are continous and conserve their sign for all $x\\in[a,b]$. Starting from an initial approximation $x_{o}$ of the root $\\xi$, an improved approximation $x_{1}$ as the $x$-intercept of the tangent line at the curve $y=f(x)$ at the point $(x_{o},f(x_{o}))$. By choosing, in particular $x_{o}=b$, the local derivative $f'(x_{o})$ can be identified with the slope of the tangent line,\n",
    "\n",
    "$$f'(x_{o}) = \\frac{f(x_{o})}{x_{o}-x_{1}}\\longrightarrow x_{1} = x_{o}-\\frac{f(x_{o})}{f'(x_{o})}$$\n",
    "\n",
    "Employing the outlined procudure iteratively, one can determine a sequence of approximations $x_{1},x_{2},\\cdots$ of the zero $\\xi$ of function $f(x)$ based on the *recurrence relation*:\n",
    "\n",
    "$$x_{i+1} = x_{i} - \\frac{f(x_{i})}{f'(x_{i})}\\qquad i=0,1,2,\\cdots$$\n",
    "\n",
    "This formula can also be justified by considering the truncated Taylor expansion:\n",
    "\n",
    "$$f(x_{i+1}) = f(x_{i})+f'(x_{i})(x_{i+1}-x_{i})+\\cdots$$\n",
    "\n",
    "Admitting that $x_{i+1}$ represents an improved approximation, one can consider that $f(x_{i+1})\\approx0$ and expresses $x_{i+1}$ to give the recurrence relation\n",
    "\n",
    "With the absolute correction $\\Delta x_{i}$ resulting from the recurrence relation \n",
    "\n",
    "$$\\Delta x_{i} = x_{i+1}-x_{i}=-\\frac{f(x_{i})}{f'(x_{i})}$$\n",
    "\n",
    "Consistently handing the case $x_{i+1} = 0$ implies the stopping condition as \n",
    "\n",
    "$$|\\Delta x_{i+1}| = \\epsilon|x_{i+1}|$$\n"
   ]
  },
  {
   "cell_type": "code",
   "execution_count": 61,
   "metadata": {},
   "outputs": [],
   "source": [
    "def f(x):\n",
    "    return np.exp(x)*np.log(x)-x*x\n",
    "\n",
    "def df(x):\n",
    "    return np.exp(x)*(np.log(x) +1/x)-2*x\n",
    "\n",
    "\n",
    "\n",
    "def Newton(f,a,b):\n",
    "    tol = 1e-10\n",
    "    dx = b-a; x = (b+a)/2.\n",
    "    h = tol*np.abs(x)\n",
    "    df = (f(x+h)-f(x))/h\n",
    "    k = 0\n",
    "    while(np.abs(dx)>tol):\n",
    "        dx = f(x)/df\n",
    "        x -= dx\n",
    "        k += 1\n",
    "    print (\"Was need \"+str(k)+\" iterations\")\n",
    "    print (\"Estimated error \"+str(dx))\n",
    "    return x\n",
    "\n",
    "\n",
    "        "
   ]
  },
  {
   "cell_type": "markdown",
   "metadata": {},
   "source": [
    "Find the root"
   ]
  },
  {
   "cell_type": "code",
   "execution_count": 80,
   "metadata": {},
   "outputs": [
    {
     "name": "stdout",
     "output_type": "stream",
     "text": [
      "Was need 8 iterations\n",
      "Estimated error 2.811343878494345e-11\n",
      "Eccentric Anomaly  0.01591978268622841\n",
      "x =  2381498.89257819 km\n",
      "y =  2381831.050169454 km\n"
     ]
    }
   ],
   "source": [
    "T = 365.25635; w = 2.*np.pi/T\n",
    "e = 0.0167\n",
    "t = 0.91\n",
    "a = 1.496e8\n",
    "b = a/np.sqrt(1-e**2)\n",
    "\n",
    "def g(E):\n",
    "    return E - w*t -e*np.sin(E)\n",
    "\n",
    "E = Newton(g,0,5)\n",
    "x = a*np.sin(E)\n",
    "y = b*np.sin(E)\n",
    "print (\"Eccentric Anomaly \",E)\n",
    "print (\"x = \",x,\"km\")\n",
    "print (\"y = \",y,\"km\")"
   ]
  },
  {
   "cell_type": "markdown",
   "metadata": {},
   "source": [
    "Now suppose that something happened, putting Earth on a pretty eccentric orbit, say $e=0.99999$. How many iterations does your algorith need now?. How could you accelerate convergence ?"
   ]
  },
  {
   "cell_type": "code",
   "execution_count": 79,
   "metadata": {},
   "outputs": [
    {
     "name": "stdout",
     "output_type": "stream",
     "text": [
      "Was need 324 iterations\n",
      "Estimated error 9.895076700110165e-11\n",
      "Eccentric Anomaly  0.4560967140549896\n",
      "x =  65890898.848238766 km\n",
      "y =  65900088.92693912 km\n"
     ]
    }
   ],
   "source": [
    "e = 0.99999\n",
    "E = Newton(g,0,5)\n",
    "x = a*np.sin(E)\n",
    "y = b*np.sin(E)\n",
    "print (\"Eccentric Anomaly \",E)\n",
    "print (\"x = \",x,\"km\")\n",
    "print (\"y = \",y,\"km\")"
   ]
  },
  {
   "cell_type": "markdown",
   "metadata": {},
   "source": [
    "If we need less iterations a way for this is considered a different initial root point. For this is necessary use the taylor expansion\n",
    "\n",
    "$$0 = E-\\omega t -e\\sin E \\longrightarrow 0=E-\\omega t-e\\left(E-\\frac{E^{3}}{6}+\\cdots\\right)$$\n",
    "\n",
    "then\n",
    "\n",
    "$$E \\approx \\left(\\frac{6\\omega t}{e}\\right)^{1/3}\\approx 0.454561$$\n",
    "\n",
    "For this reason we choose\n",
    "\n",
    "$$0.44 < E < 0.46$$\n",
    "\n",
    "So\n",
    "\n",
    "\n"
   ]
  },
  {
   "cell_type": "code",
   "execution_count": 78,
   "metadata": {},
   "outputs": [
    {
     "name": "stdout",
     "output_type": "stream",
     "text": [
      "Was need 6 iterations\n",
      "Estimated error 4.3323462725031284e-11\n",
      "Eccentric Anomaly  0.45609671240945804\n",
      "x =  65890898.62723126 km\n",
      "y =  65900088.705900796 km\n"
     ]
    }
   ],
   "source": [
    "e = 0.99999\n",
    "E = Newton(g,0.44,0.46)\n",
    "x = a*np.sin(E)\n",
    "y = b*np.sin(E)\n",
    "print (\"Eccentric Anomaly \",E)\n",
    "print (\"x = \",x,\"km\")\n",
    "print (\"y = \",y,\"km\")"
   ]
  },
  {
   "cell_type": "markdown",
   "metadata": {},
   "source": [
    "## 2 Polynomials with multiple Roots\n",
    "\n",
    "Find all real roots of \n",
    "\n",
    "$f(x) = 3x^{5}+5x^{4}-x^{3}$$$\n",
    "\n",
    "How many are there and how can you constructu an algorith that finds all of them?. This method should be general and should work for real roots of any polynomial in one variable with at least on real root. You may ask the internet for help!\n",
    "\n",
    "Implement your method and be ready to be tested in class to demostrate it's capabilities with a few examples \n"
   ]
  },
  {
   "cell_type": "code",
   "execution_count": null,
   "metadata": {},
   "outputs": [],
   "source": []
  }
 ],
 "metadata": {
  "kernelspec": {
   "display_name": "Python 3",
   "language": "python",
   "name": "python3"
  },
  "language_info": {
   "codemirror_mode": {
    "name": "ipython",
    "version": 3
   },
   "file_extension": ".py",
   "mimetype": "text/x-python",
   "name": "python",
   "nbconvert_exporter": "python",
   "pygments_lexer": "ipython3",
   "version": "3.6.4"
  }
 },
 "nbformat": 4,
 "nbformat_minor": 2
}
