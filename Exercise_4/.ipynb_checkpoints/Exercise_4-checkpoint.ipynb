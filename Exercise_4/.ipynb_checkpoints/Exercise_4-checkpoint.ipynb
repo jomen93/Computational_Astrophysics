{
 "cells": [
  {
   "cell_type": "code",
   "execution_count": 2,
   "metadata": {},
   "outputs": [],
   "source": [
    "import numpy as np\n",
    "import matplotlib.pyplot as plt \n",
    "import scipy as sp "
   ]
  },
  {
   "cell_type": "markdown",
   "metadata": {},
   "source": [
    "## 1. Eccentric Anomaly \n",
    "\n",
    "<img src=\"elipse.png\">\n",
    "\n",
    "A planet is moving around the sun in an elliptic Keplerian orbit with semi- major axis $a$, semi-minor axis $b$, and eccentricity $e=\\sqrt{1-\\frac{a^{2}}{b^{2}}}$. The planet last perihelion occur at $t=0$. The angular frequency of the motion is $\\omega =2\\pi/T$, where $T$ is the duration of its orbit(period).\n",
    "\n",
    "If we define a @D coordinate system $(x,y)$ with origin at the center of the ellipse, then the points on the ellipse are decribed by tthe equation \n",
    "\n",
    "$$\\frac{x^{2}}{a^{2}}+\\frac{y^{2}}{b^{2}} = 1$$\n",
    "\n",
    "the location of the planet in the $(x,y)$ coordinate system is guven by \n",
    "\n",
    "$$x = a\\sin E$$\n",
    "$$y=b\\sin E$$\n",
    "\n",
    "where $E$ is the *eccentric anomaly*, whic is defined by \n",
    "\n",
    "$$E = \\omega t + e\\sin E$$\n",
    "\n",
    "The insteresting equation here is the before equation , which gives an implicit non-linear relations for E. In order to find $E$ for a given $\\omega t$ and $e$, we will need to find the solution to the following equation:\n",
    "\n",
    "$$0 = E-\\omega t -e\\sin E$$\n",
    "\n",
    "in other words, we have to find this equation's root!\n",
    "\n"
   ]
  },
  {
   "cell_type": "markdown",
   "metadata": {},
   "source": [
    "* The Earth an orbital period of $365.25635$ days, a semi-major axis $a = 1.496\\times10^{8}km =1UA$, and it's orbit has an accentricity of $e = 0.0167$. Compute $E$, $x$ and $y$ for $t=91$ days using your favorite root finding method. The fractional method error in $E$ at the end of your computation (from one iteration to the next) should be less than $10^{-10}$. How many iterations does your method need, i.e, how, quickly does it converge ?\n"
   ]
  },
  {
   "cell_type": "markdown",
   "metadata": {},
   "source": [
    "## Newton's method \n",
    "\n",
    "Let us assumen that equation \n",
    "\n",
    "$$f(x) = 0$$\n",
    "\n",
    "for the real-valued differentiable function $f(x)$ posseses a real zero $\\xi$ in the interval $[a,b]$ and that $f'(x)$ and $f''(x)$ are continous and conserve their sign for all $x\\in[a,b]$. Starting from an initial approximation $x_{o}$ of the root $\\xi$, an improved approximation $x_{1}$ as the $x$-intercept of the tangent line at the curve $y=f(x)$ at the point $(x_{o},f(x_{o}))$. By choosing, in particular $x_{o}=b$, the local derivative $f'(x_{o})$ can be identified with the slope of the tangent line,\n",
    "\n",
    "$$f'(x_{o}) = \\frac{f(x_{o})}{x_{o}-x_{1}}\\longrightarrow x_{1} = x_{o}-\\frac{f(x_{o})}{f'(x_{o})}$$\n",
    "\n",
    "Employing the outlined procudure iteratively, one can determine a sequence of approximations $x_{1},x_{2},\\cdots$ of the zero $\\xi$ of function $f(x)$ based on the *recurrence relation*:\n",
    "\n",
    "$$x_{i+1} = x_{i} - \\frac{f(x_{i})}{f'(x_{i})}\\qquad i=0,1,2,\\cdots$$\n",
    "\n",
    "This formula can also be justified by considering the truncated Taylor expansion:\n",
    "\n",
    "$$f(x_{i+1}) = f(x_{i})+f'(x_{i})(x_{i+1}-x_{i})+\\cdots$$\n",
    "\n",
    "Admitting that $x_{i+1}$ represents an improved approximation, one can consider that $f(x_{i+1})\\approx0$ and expresses $x_{i+1}$ to give the recurrence relation\n",
    "\n",
    "With the absolute correction $\\Delta x_{i}$ resulting from the recurrence relation \n",
    "\n",
    "$$\\Delta x_{i} = x_{i+1}-x_{i}=-\\frac{f(x_{i})}{f'(x_{i})}$$\n",
    "\n",
    "Consistently handing the case $x_{i+1} = 0$ implies the stopping condition as \n",
    "\n",
    "$$|\\Delta x_{i+1}| = \\epsilon|x_{i+1}|$$\n"
   ]
  },
  {
   "cell_type": "code",
   "execution_count": 94,
   "metadata": {},
   "outputs": [],
   "source": [
    "def f(x):\n",
    "    return np.exp(x)*np.log(x)-x*x\n",
    "\n",
    "def df(x):\n",
    "    return np.exp(x)*(np.log(x) +1/x)-2*x\n",
    "\n",
    "\n",
    "\n",
    "def Newton(f,a,b):\n",
    "    tol = 1e-10; maxiter = 10000\n",
    "    dx = b-a; x = (b+a)/2.\n",
    "    h = tol*np.abs(x)\n",
    "    df = (f(x+h)-f(x))/h\n",
    "    k = 0\n",
    "    while(np.abs(dx)>tol and k < maxiter):\n",
    "        dx = f(x)/df\n",
    "        x -= dx\n",
    "        k += 1\n",
    "    if (k == maxiter):\n",
    "        print(\"Root not founded\")\n",
    "    else:\n",
    "        print (\"Was need \"+str(k)+\" iterations\")\n",
    "        print (\"Estimated error \"+str(dx))\n",
    "        return x\n",
    "\n",
    "\n",
    "        "
   ]
  },
  {
   "cell_type": "markdown",
   "metadata": {},
   "source": [
    "Find the root"
   ]
  },
  {
   "cell_type": "code",
   "execution_count": 80,
   "metadata": {},
   "outputs": [
    {
     "name": "stdout",
     "output_type": "stream",
     "text": [
      "Was need 8 iterations\n",
      "Estimated error 2.811343878494345e-11\n",
      "Eccentric Anomaly  0.01591978268622841\n",
      "x =  2381498.89257819 km\n",
      "y =  2381831.050169454 km\n"
     ]
    }
   ],
   "source": [
    "T = 365.25635; w = 2.*np.pi/T\n",
    "e = 0.0167\n",
    "t = 0.91\n",
    "a = 1.496e8\n",
    "b = a/np.sqrt(1-e**2)\n",
    "\n",
    "def g(E):\n",
    "    return E - w*t -e*np.sin(E)\n",
    "\n",
    "E = Newton(g,0,5)\n",
    "x = a*np.sin(E)\n",
    "y = b*np.sin(E)\n",
    "print (\"Eccentric Anomaly \",E)\n",
    "print (\"x = \",x,\"km\")\n",
    "print (\"y = \",y,\"km\")"
   ]
  },
  {
   "cell_type": "markdown",
   "metadata": {},
   "source": [
    "Now suppose that something happened, putting Earth on a pretty eccentric orbit, say $e=0.99999$. How many iterations does your algorith need now?. How could you accelerate convergence ?"
   ]
  },
  {
   "cell_type": "code",
   "execution_count": 79,
   "metadata": {},
   "outputs": [
    {
     "name": "stdout",
     "output_type": "stream",
     "text": [
      "Was need 324 iterations\n",
      "Estimated error 9.895076700110165e-11\n",
      "Eccentric Anomaly  0.4560967140549896\n",
      "x =  65890898.848238766 km\n",
      "y =  65900088.92693912 km\n"
     ]
    }
   ],
   "source": [
    "e = 0.99999\n",
    "E = Newton(g,0,5)\n",
    "x = a*np.sin(E)\n",
    "y = b*np.sin(E)\n",
    "print (\"Eccentric Anomaly \",E)\n",
    "print (\"x = \",x,\"km\")\n",
    "print (\"y = \",y,\"km\")"
   ]
  },
  {
   "cell_type": "markdown",
   "metadata": {},
   "source": [
    "If we need less iterations a way for this is considered a different initial root point. For this is necessary use the taylor expansion\n",
    "\n",
    "$$0 = E-\\omega t -e\\sin E \\longrightarrow 0=E-\\omega t-e\\left(E-\\frac{E^{3}}{6}+\\cdots\\right)$$\n",
    "\n",
    "then\n",
    "\n",
    "$$E \\approx \\left(\\frac{6\\omega t}{e}\\right)^{1/3}\\approx 0.454561$$\n",
    "\n",
    "For this reason we choose\n",
    "\n",
    "$$0.44 < E < 0.46$$\n",
    "\n",
    "So\n",
    "\n",
    "\n"
   ]
  },
  {
   "cell_type": "code",
   "execution_count": 78,
   "metadata": {},
   "outputs": [
    {
     "name": "stdout",
     "output_type": "stream",
     "text": [
      "Was need 6 iterations\n",
      "Estimated error 4.3323462725031284e-11\n",
      "Eccentric Anomaly  0.45609671240945804\n",
      "x =  65890898.62723126 km\n",
      "y =  65900088.705900796 km\n"
     ]
    }
   ],
   "source": [
    "e = 0.99999\n",
    "E = Newton(g,0.44,0.46)\n",
    "x = a*np.sin(E)\n",
    "y = b*np.sin(E)\n",
    "print (\"Eccentric Anomaly \",E)\n",
    "print (\"x = \",x,\"km\")\n",
    "print (\"y = \",y,\"km\")"
   ]
  },
  {
   "cell_type": "markdown",
   "metadata": {},
   "source": [
    "## 2 Polynomials with multiple Roots\n",
    "\n",
    "Find all real roots of \n",
    "\n",
    "$$f(x) = 3x^{5}+5x^{4}-x^{3}$$\n",
    "\n",
    "How many are there and how can you construct an algorith that finds all of them?. This method should be general and should work for real roots of any polynomial in one variable with at least on real root. You may ask the internet for help!\n",
    "\n",
    "Implement your method and be ready to be tested in class to demostrate it's capabilities with a few examples \n"
   ]
  },
  {
   "cell_type": "code",
   "execution_count": 97,
   "metadata": {},
   "outputs": [
    {
     "name": "stdout",
     "output_type": "stream",
     "text": [
      "Was need 1151 iterations\n",
      "Estimated error 9.951894943993126e-11\n",
      "0.1804604290986747\n",
      "Root not founded\n",
      "None\n"
     ]
    }
   ],
   "source": [
    "def F(x):\n",
    "    return 3.0*x**5 +5.0*x**4 -x**3\n",
    "\n",
    "print (Newton(F,0,1))\n",
    "print (Newton(F,-1,0))\n",
    "\n"
   ]
  },
  {
   "cell_type": "markdown",
   "metadata": {},
   "source": [
    "## Birge-Vieta Method\n",
    "\n",
    "Is the aplication of the Newton-Rhapson method, in particular for determining the zeros of real polynomials. Specifically, we consider the algebraic equation \n",
    "\n",
    "$$P_{n}(x) = 0$$\n",
    "\n",
    "where $P_{n}(x)$ is an n-th degree polnomial with real coefficients\n",
    "\n",
    "$$P_{n}(x)=a_{o}x^{n}+a_{i}x^{n-1}+\\cdots+a_{n-1}x+a_{n}$$\n",
    "\n",
    "The sequence of approximations of a specific root $\\xi$ is given in this case by the recurrence relation \n",
    "\n",
    "$$x_{i+1} = x_{i}-\\frac{P_{n}(x_{i})}{P'_{n}(x_{i})}\\qquad i = 0,1,\\cdots$$\n",
    "\n",
    "and implies the avaluation of both the polynomial and its derivative for the sequence of arguments $x_{i}$, in \n",
    "principle, starting from various initial approximations, this relation could be used to determine all the roots. However, the algorithm can be rendered significantly more efficient by using Horner's scheme not only for the implied polynomial evaluations, but asl for reducin the polynomial order by syntetic division once a root is found \n"
   ]
  },
  {
   "cell_type": "markdown",
   "metadata": {},
   "source": [
    "Let $x_{i}$ be the value for wich $P_{n}(x_{i})$ and $P'_{n}(x_{i})$ have to evaluated. According to the *polynomial remainder theorem* , by dividing $P_{n}(x) by the binomial (x-x_{i})$, one obtains a quotient polynomial of order $(n-1)$, $P_{n-1}(x)$, and a remainder , $p_{n}$, which is nonzero if $x_{i}$ is not a zero of $P_{n}(x)$. Accordingly, the synthetic division can be represented as \n",
    "\n",
    "$$P_{n}(x) = (x-x_{i})P_{n-1}(x)+p_{n}$$\n",
    "\n",
    "with \n",
    "}\n",
    "$$P_{n-1}(x) = p_{o}x_{n-1}+p_{1}x^{n-2}+\\cdots+p_{n-2}x+p_{n-1}$$\n",
    "\n",
    "the coefficients p_{n}, can be determined by equating teh expanded expression resulting from the synthetic division :\n",
    "\n",
    "$$\n",
    "\\left\\{\n",
    "\t\\begin{array}{ll}\n",
    "\t\tp_{o}=a_{o}  &  \\\\\n",
    "\t\tp_{j}=p_{j-1}x_{i}+a_{j}&\n",
    "\t\\end{array}\n",
    "\\right.\n",
    "$$\n",
    "\n",
    "Indeed, from the definitions of synthetic division follows that the polynomial value $P_{n}(x_{i})$ is just the remainder of the division of $P_{n}(x)$ by $(x-x_{i})$\n",
    "\n",
    "$$P_{n}(x_{i}) = p_{n}$$\n",
    "\n",
    "Turning to the evaluation of the first derivative, $P'_{n}(x)$ results by differentiating the sinthetic division rule \n",
    "\n",
    "$$P'_{n}(x) = (x-x_{i})P'_{n-1}(x)+P_{n-1}(x)$$\n",
    "\n",
    "and , since $P'_{n}(x_{i}) = P_{n-1}(x_{i})$, the evaluation of $P'_{n}(x)$ actually amounts to the evaluation of $P_{n-1(x_{i})}$. By applying Horner's scheme, this calculations consist of iteratively evaluating the numbers \n",
    "\n",
    "$$\n",
    "\\left\\{\n",
    "\t\\begin{array}{ll}\n",
    "\t\td_{o}=p_{o}  &  \\\\\n",
    "\t\td_{j}=d_{j-1}x_{i}+p_{j}&\n",
    "\t\\end{array}\n",
    "\\right.\n",
    "$$\n",
    "\n",
    "which finally yield the desired result:\n",
    "\n",
    "$$P'_{n}(x_{i})=d_{n-1}$$\n",
    "\n",
    "Once a root $\\xi$ has been determined , the remaining roots can be economically calculated from the reduced polynomial $P_{n-1}(x)$ result from the relations defined before.\n",
    "\n",
    "The described procedure can be aplied repeatedly, reducing in pararell the polynomial by synthetic division, until all real roots of the initial polynomial $P_{n}(x)$ have been found. \n",
    "\n",
    "\n"
   ]
  },
  {
   "cell_type": "code",
   "execution_count": 158,
   "metadata": {},
   "outputs": [
    {
     "name": "stdout",
     "output_type": "stream",
     "text": [
      "Was need 28 iterations\n",
      "Estimated error -0.0\n"
     ]
    },
    {
     "data": {
      "text/plain": [
       "array([-0.99999999, -1.00000001])"
      ]
     },
     "execution_count": 158,
     "metadata": {},
     "output_type": "execute_result"
    }
   ],
   "source": [
    "def BirgeVieta(a,n):\n",
    "    tol = 1e-10; itemax = 10000\n",
    "    nx = 0\n",
    "    roots = np.zeros(n+1)\n",
    "    if (n <= 1):\n",
    "        return print(\"at least a polynomial of the second degree\")\n",
    "    x = 0 \n",
    "    for m in np.arange(n,1,-1):\n",
    "        for it in range(1,itemax+1):\n",
    "            p = a[0]; d = p\n",
    "            for j in range(1,m):\n",
    "                p = p*x + a[j]\n",
    "                d = d*x + p\n",
    "            p = p*x +a[m]\n",
    "            if d:\n",
    "                d = -p/d\n",
    "            else:\n",
    "                d =-p\n",
    "            x+=d\n",
    "            if(np.abs(d) <= tol*np.abs(x)):\n",
    "                break\n",
    "        \n",
    "        if(it == itemax):\n",
    "            print(\"iterations exceeded!\") \n",
    "        else:\n",
    "            print (\"Was need \"+str(it)+\" iterations\")\n",
    "            print (\"Estimated error \"+str(d))\n",
    "            \n",
    "        nx +=1\n",
    "        roots[nx] = x\n",
    "        \n",
    "        for j in range(1,m):\n",
    "            a[j] += a[j-1]*x\n",
    "    \n",
    "    nx+=1\n",
    "    roots[nx] = -a[1]/a[0]\n",
    "    \n",
    "    return roots[1:]\n",
    "        \n",
    "                \n",
    "\n",
    "    \n",
    "BirgeVieta([1,2,1],2)"
   ]
  },
  {
   "cell_type": "markdown",
   "metadata": {},
   "source": [
    "Now, we invetigate the polynomial \n",
    "\n",
    "$$f(x) = 3x^{5}+5x^{4}-x^{3}$$\n"
   ]
  },
  {
   "cell_type": "code",
   "execution_count": 162,
   "metadata": {},
   "outputs": [
    {
     "name": "stdout",
     "output_type": "stream",
     "text": [
      "Was need 1 iterations\n",
      "Estimated error 0\n",
      "Was need 1 iterations\n",
      "Estimated error 0\n",
      "Was need 1 iterations\n",
      "Estimated error -0.0\n",
      "Was need 5 iterations\n",
      "Estimated error -1.4601563274517316e-16\n"
     ]
    }
   ],
   "source": [
    "Root = BirgeVieta([3,5,-1,0,0,0],5)"
   ]
  },
  {
   "cell_type": "code",
   "execution_count": 165,
   "metadata": {},
   "outputs": [
    {
     "name": "stdout",
     "output_type": "stream",
     "text": [
      "[ 0.          0.          0.          0.18046042 -1.84712709]\n"
     ]
    }
   ],
   "source": [
    "print(Root)"
   ]
  },
  {
   "cell_type": "code",
   "execution_count": 164,
   "metadata": {},
   "outputs": [
    {
     "data": {
      "text/plain": [
       "array([0.00000000e+00, 0.00000000e+00, 0.00000000e+00, 1.73472348e-18,\n",
       "       8.88178420e-15])"
      ]
     },
     "execution_count": 164,
     "metadata": {},
     "output_type": "execute_result"
    }
   ],
   "source": [
    "def pol(x):\n",
    "    return 3*x**5 + 5*x**4 - x**3\n",
    "\n",
    "pol(Root)"
   ]
  },
  {
   "cell_type": "code",
   "execution_count": null,
   "metadata": {},
   "outputs": [],
   "source": []
  }
 ],
 "metadata": {
  "kernelspec": {
   "display_name": "Python 3",
   "language": "python",
   "name": "python3"
  },
  "language_info": {
   "codemirror_mode": {
    "name": "ipython",
    "version": 3
   },
   "file_extension": ".py",
   "mimetype": "text/x-python",
   "name": "python",
   "nbconvert_exporter": "python",
   "pygments_lexer": "ipython3",
   "version": "3.6.4"
  }
 },
 "nbformat": 4,
 "nbformat_minor": 2
}
